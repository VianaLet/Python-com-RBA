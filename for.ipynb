{
 "cells": [
  {
   "cell_type": "markdown",
   "metadata": {},
   "source": [
    "# For\n",
    "\n",
    "Laço de repetção - loop"
   ]
  },
  {
   "cell_type": "code",
   "execution_count": 10,
   "metadata": {},
   "outputs": [
    {
     "name": "stdout",
     "output_type": "stream",
     "text": [
      "1 2 3 4 5 6 7 8 9 10 "
     ]
    },
    {
     "data": {
      "text/plain": [
       "'\\nLoop For com Range: a estrutura for pe usada para criar um loop que iterará\\nsobre um sequência de valores. A função range(1,11) gera uma sequencia de \\nnúmeros inteiros começando de 1 e terminando antes de 11\\ntem incremento e decremento automático\\né mais comum usar quando sei quantas vezes quero iterar ou quando estou\\ntrabalhando diretamente com uma sequência de elementos\\n'"
      ]
     },
     "execution_count": 10,
     "metadata": {},
     "output_type": "execute_result"
    }
   ],
   "source": [
    "# para cada i no intervalo de 1 à 10:\n",
    "for i in range(1,11):\n",
    "    print(i, end=' ')\n",
    "\n",
    "\"\"\"\n",
    "Loop For com Range: a estrutura for pe usada para criar um loop que iterará\n",
    "sobre um sequência de valores. A função range(1,11) gera uma sequencia de \n",
    "números inteiros começando de 1 e terminando antes de 11\n",
    "tem incremento e decremento automático\n",
    "é mais comum usar quando sei quantas vezes quero iterar ou quando estou\n",
    "trabalhando diretamente com uma sequência de elementos\n",
    "\"\"\""
   ]
  },
  {
   "cell_type": "code",
   "execution_count": 9,
   "metadata": {},
   "outputs": [
    {
     "name": "stdout",
     "output_type": "stream",
     "text": [
      "10 9 8 7 6 5 4 3 2 1 "
     ]
    }
   ],
   "source": [
    "# for variável in range(numero-inicial, numero-final, número-incremento/decremento)\n",
    "for i in range(10,0,-1):\n",
    "    print(i, end=' ')"
   ]
  },
  {
   "cell_type": "code",
   "execution_count": 25,
   "metadata": {},
   "outputs": [
    {
     "name": "stdout",
     "output_type": "stream",
     "text": [
      "12\n",
      "10\n",
      "8\n",
      "6\n",
      "4\n",
      "2 4 6 8 10 "
     ]
    }
   ],
   "source": [
    "for i in range(12,2,-2):\n",
    "    print(i)\n",
    "\n",
    "for j in range(2,12,2):\n",
    "    print( j, end=' ')"
   ]
  },
  {
   "cell_type": "code",
   "execution_count": 27,
   "metadata": {},
   "outputs": [
    {
     "name": "stdout",
     "output_type": "stream",
     "text": [
      "Número ímpar atual: 1\n",
      "Número ímpar atual: 3\n",
      "Número ímpar atual: 5\n",
      "Número ímpar atual: 7\n",
      "Número ímpar atual: 9\n",
      "A soma dos número ímpares de 1 a 10 é : 25\n"
     ]
    }
   ],
   "source": [
    "soma = 0\n",
    "n =int(input('Informe quantos números ímpares você deseja: '))\n",
    "for i in range(1,n,2):\n",
    "    print(f'Número ímpar atual: {i}')\n",
    "    soma += i\n",
    "print(f'A soma dos número ímpares de 1 a {n} é : {soma}')"
   ]
  },
  {
   "cell_type": "code",
   "execution_count": 43,
   "metadata": {},
   "outputs": [
    {
     "name": "stdout",
     "output_type": "stream",
     "text": [
      "Multiplicando por 1, o resultado parcial é 1\n",
      "Multiplicando por 2, o resultado parcial é 2\n",
      "Multiplicando por 3, o resultado parcial é 6\n",
      "Multiplicando por 4, o resultado parcial é 24\n",
      "Multiplicando por 5, o resultado parcial é 120\n",
      "O resultado final da multiplicação de 1 a 5 é: 120\n"
     ]
    }
   ],
   "source": [
    "resultado =1\n",
    "# utilizando for para iterar os números de 1 a 5\n",
    "for contador in range(1,6):\n",
    "    resultado= resultado * contador \n",
    "    # Ou resultado *= contador\n",
    "    print(f'Multiplicando por {contador}, o resultado parcial é {resultado}')\n",
    "print(f'O resultado final da multiplicação de 1 a 5 é: {resultado}')"
   ]
  },
  {
   "cell_type": "code",
   "execution_count": 62,
   "metadata": {},
   "outputs": [
    {
     "name": "stdout",
     "output_type": "stream",
     "text": [
      "A soma dos números pares de 1 até 10 é: 0 \n",
      "A soma dos números pares de 1 até 10 é: 2 \n",
      "A soma dos números pares de 1 até 10 é: 6 \n",
      "A soma dos números pares de 1 até 10 é: 12 \n",
      "A soma dos números pares de 1 até 10 é: 20 \n",
      "A soma dos números pares de 1 até 10 é: 30 \n",
      "A soma dos números pares de 2 + 0 é: 2\n",
      "A soma dos números pares de 4 + 2 é: 6\n",
      "A soma dos números pares de 6 + 6 é: 12\n",
      "A soma dos números pares de 8 + 12 é: 20\n",
      "A soma dos números pares de 10 + 20 é: 30\n"
     ]
    }
   ],
   "source": [
    "\"\"\"\n",
    "Exercício: Soma de Números Pares:\n",
    "\n",
    "    Objetivo: Escreva um programa que peça ao usuário um número inteiro n\n",
    "    e some todos os números pares de 1 até n, incluindo o próprio n(se for par)\n",
    "    Utilize um loop for para esta tarefa\n",
    "\"\"\"\n",
    "soma = 0\n",
    "n = int(input('Informe um número inteiro posítivo:'))\n",
    "for numero in range(0,n+1,2):\n",
    "    soma += numero\n",
    "    print(f'A soma dos números pares de 1 até {n} é: {soma} ')\n",
    "\n",
    "soma = 0\n",
    "for numero in range(1,n+1):\n",
    "    if numero % 2 == 0:\n",
    "        print(f'A soma dos números pares de {numero} + {soma} é: {numero+soma}')\n",
    "        soma +=  numero\n",
    "    "
   ]
  },
  {
   "cell_type": "code",
   "execution_count": 5,
   "metadata": {},
   "outputs": [
    {
     "name": "stdout",
     "output_type": "stream",
     "text": [
      "10 x 1: 10\n",
      "10 x 2: 20\n",
      "10 x 3: 30\n",
      "10 x 4: 40\n",
      "10 x 5: 50\n",
      "10 x 6: 60\n",
      "10 x 7: 70\n",
      "10 x 8: 80\n",
      "10 x 9: 90\n",
      "10 x 10: 100\n"
     ]
    }
   ],
   "source": [
    "numero = int(input('Informe um número inteiro positivo: '))\n",
    "if numero > 0:\n",
    "    for i in range (1,11):\n",
    "        produto = numero * i\n",
    "        print(f'{numero} x {i}: {produto}')\n",
    "else:\n",
    "    print('Entrada de dados invalida')\n",
    "    \n",
    "\n"
   ]
  },
  {
   "cell_type": "code",
   "execution_count": 10,
   "metadata": {},
   "outputs": [
    {
     "name": "stdout",
     "output_type": "stream",
     "text": [
      "Quadrado de 1: 1\n",
      "Quadrado de 2: 4\n",
      "Quadrado de 3: 9\n",
      "Quadrado de 4: 16\n",
      "Quadrado de 5: 25\n",
      "A soma dos quadrados dos números de 1 até 5 é: 55\n"
     ]
    }
   ],
   "source": [
    "# Solicitando um número ao usuário\n",
    "n = int(input('Informe um número inteiro positivo'))\n",
    "soma = 0\n",
    "if n > 0:\n",
    "    # aqui colocamos o n+1 porque queremos o número exato que o usuário digitou na contagem\n",
    "    for i in range(1,n+1):\n",
    "        quadrado = i * i # Ou quadrado = i**2\n",
    "        print(f'Quadrado de {i}: {quadrado}')\n",
    "        soma += quadrado    # Adicionando o quadrado do número a soma\n",
    "    print(f'A soma dos quadrados dos números de 1 até {n} é: {soma}')\n",
    "else: \n",
    "    print('Entrada de dados inválida')"
   ]
  },
  {
   "cell_type": "markdown",
   "metadata": {},
   "source": [
    "### For com strings"
   ]
  },
  {
   "cell_type": "code",
   "execution_count": 11,
   "metadata": {},
   "outputs": [
    {
     "name": "stdout",
     "output_type": "stream",
     "text": [
      "A\n",
      "B\n",
      "C\n"
     ]
    }
   ],
   "source": [
    "# loop for para iterar sobre uma lista de caracteres alfabéticos,\n",
    "# imprimindo cada item da lista até encontrar o caractere 'C'\n",
    "lista = ['A','B', 'C', 'D', 'E']\n",
    "\n",
    "for item in lista:\n",
    "    print(item)\n",
    "    if item == 'C':\n",
    "        break"
   ]
  },
  {
   "cell_type": "code",
   "execution_count": 12,
   "metadata": {},
   "outputs": [
    {
     "name": "stdout",
     "output_type": "stream",
     "text": [
      "maçã\n",
      "banana\n",
      "laranja\n"
     ]
    }
   ],
   "source": [
    "frutas = [ 'maçã', 'banana', 'laranja']\n",
    "\n",
    "for fruta in frutas:\n",
    "    print(fruta) "
   ]
  },
  {
   "cell_type": "code",
   "execution_count": 13,
   "metadata": {},
   "outputs": [
    {
     "name": "stdout",
     "output_type": "stream",
     "text": [
      "1\n",
      "2\n",
      "3\n"
     ]
    }
   ],
   "source": [
    "numero = int(input('Digite um número: '))\n",
    "for i in range (1, numero+1):\n",
    "    print(i)"
   ]
  },
  {
   "cell_type": "code",
   "execution_count": 15,
   "metadata": {},
   "outputs": [
    {
     "name": "stdout",
     "output_type": "stream",
     "text": [
      "1, é ímpar\n",
      "2, é par\n",
      "3, é ímpar\n",
      "4, é par\n",
      "5, é ímpar\n",
      "6, é par\n",
      "7, é ímpar\n",
      "8, é par\n",
      "9, é ímpar\n",
      "10, é par\n"
     ]
    }
   ],
   "source": [
    "numeros = [1, 2, 3, 4, 5, 6, 7, 8, 9, 10]\n",
    "for numero in numeros:\n",
    "    if numero % 2 == 0:\n",
    "        print(f'{numero}, é par')\n",
    "    else:\n",
    "        print(f'{numero}, é ímpar')"
   ]
  },
  {
   "cell_type": "code",
   "execution_count": 16,
   "metadata": {},
   "outputs": [
    {
     "name": "stdout",
     "output_type": "stream",
     "text": [
      "Eu preciso compra maçã\n",
      "Eu preciso compra banana\n",
      "Eu preciso compra cenoura\n",
      "Eu preciso compra leite\n"
     ]
    }
   ],
   "source": [
    "lista_mercado = [ 'maçã', 'banana', 'cenoura', 'leite']\n",
    "for item in lista_mercado:\n",
    "    print(f'Eu preciso compra {item}')\n"
   ]
  },
  {
   "cell_type": "code",
   "execution_count": 17,
   "metadata": {},
   "outputs": [
    {
     "name": "stdout",
     "output_type": "stream",
     "text": [
      "*****\n",
      "****\n",
      "***\n",
      "**\n",
      "*\n"
     ]
    }
   ],
   "source": [
    "for sinal in range(5,0,-1):\n",
    "    print('*'*sinal)"
   ]
  },
  {
   "cell_type": "code",
   "execution_count": 20,
   "metadata": {},
   "outputs": [
    {
     "name": "stdout",
     "output_type": "stream",
     "text": [
      "['casa', ' carro', ' sol', ' árvore']\n",
      " carro\n",
      " árvore\n"
     ]
    }
   ],
   "source": [
    "palavras = input('Digite palavras separadas por vígula: ex: casa, macarrao,churrasco')\n",
    "lista_palavras = palavras.split(',')\n",
    "print(lista_palavras)\n",
    "for item in lista_palavras:\n",
    "    if len(item) > 4:\n",
    "        print(item)\n",
    "    "
   ]
  }
 ],
 "metadata": {
  "kernelspec": {
   "display_name": "Python 3",
   "language": "python",
   "name": "python3"
  },
  "language_info": {
   "codemirror_mode": {
    "name": "ipython",
    "version": 3
   },
   "file_extension": ".py",
   "mimetype": "text/x-python",
   "name": "python",
   "nbconvert_exporter": "python",
   "pygments_lexer": "ipython3",
   "version": "3.11.4"
  }
 },
 "nbformat": 4,
 "nbformat_minor": 2
}
