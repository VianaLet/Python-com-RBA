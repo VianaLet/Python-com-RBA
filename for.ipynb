{
 "cells": [
  {
   "cell_type": "markdown",
   "metadata": {},
   "source": [
    "# For\n",
    "\n",
    "Laço de repetção - loop"
   ]
  },
  {
   "cell_type": "code",
   "execution_count": 10,
   "metadata": {},
   "outputs": [
    {
     "name": "stdout",
     "output_type": "stream",
     "text": [
      "1 2 3 4 5 6 7 8 9 10 "
     ]
    },
    {
     "data": {
      "text/plain": [
       "'\\nLoop For com Range: a estrutura for pe usada para criar um loop que iterará\\nsobre um sequência de valores. A função range(1,11) gera uma sequencia de \\nnúmeros inteiros começando de 1 e terminando antes de 11\\ntem incremento e decremento automático\\né mais comum usar quando sei quantas vezes quero iterar ou quando estou\\ntrabalhando diretamente com uma sequência de elementos\\n'"
      ]
     },
     "execution_count": 10,
     "metadata": {},
     "output_type": "execute_result"
    }
   ],
   "source": [
    "# para cada i no intervalo de 1 à 10:\n",
    "for i in range(1,11):\n",
    "    print(i, end=' ')\n",
    "\n",
    "\"\"\"\n",
    "Loop For com Range: a estrutura for pe usada para criar um loop que iterará\n",
    "sobre um sequência de valores. A função range(1,11) gera uma sequencia de \n",
    "números inteiros começando de 1 e terminando antes de 11\n",
    "tem incremento e decremento automático\n",
    "é mais comum usar quando sei quantas vezes quero iterar ou quando estou\n",
    "trabalhando diretamente com uma sequência de elementos\n",
    "\"\"\""
   ]
  },
  {
   "cell_type": "code",
   "execution_count": 9,
   "metadata": {},
   "outputs": [
    {
     "name": "stdout",
     "output_type": "stream",
     "text": [
      "10 9 8 7 6 5 4 3 2 1 "
     ]
    }
   ],
   "source": [
    "# for variável in range(numero-inicial, numero-final, número-incremento/decremento)\n",
    "for i in range(10,0,-1):\n",
    "    print(i, end=' ')"
   ]
  },
  {
   "cell_type": "code",
   "execution_count": 25,
   "metadata": {},
   "outputs": [
    {
     "name": "stdout",
     "output_type": "stream",
     "text": [
      "12\n",
      "10\n",
      "8\n",
      "6\n",
      "4\n",
      "2 4 6 8 10 "
     ]
    }
   ],
   "source": [
    "for i in range(12,2,-2):\n",
    "    print(i)\n",
    "\n",
    "for j in range(2,12,2):\n",
    "    print( j, end=' ')"
   ]
  },
  {
   "cell_type": "code",
   "execution_count": 27,
   "metadata": {},
   "outputs": [
    {
     "name": "stdout",
     "output_type": "stream",
     "text": [
      "Número ímpar atual: 1\n",
      "Número ímpar atual: 3\n",
      "Número ímpar atual: 5\n",
      "Número ímpar atual: 7\n",
      "Número ímpar atual: 9\n",
      "A soma dos número ímpares de 1 a 10 é : 25\n"
     ]
    }
   ],
   "source": [
    "soma = 0\n",
    "n =int(input('Informe quantos números ímpares você deseja: '))\n",
    "for i in range(1,n,2):\n",
    "    print(f'Número ímpar atual: {i}')\n",
    "    soma += i\n",
    "print(f'A soma dos número ímpares de 1 a {n} é : {soma}')"
   ]
  },
  {
   "cell_type": "code",
   "execution_count": 43,
   "metadata": {},
   "outputs": [
    {
     "name": "stdout",
     "output_type": "stream",
     "text": [
      "Multiplicando por 1, o resultado parcial é 1\n",
      "Multiplicando por 2, o resultado parcial é 2\n",
      "Multiplicando por 3, o resultado parcial é 6\n",
      "Multiplicando por 4, o resultado parcial é 24\n",
      "Multiplicando por 5, o resultado parcial é 120\n",
      "O resultado final da multiplicação de 1 a 5 é: 120\n"
     ]
    }
   ],
   "source": [
    "resultado =1\n",
    "# utilizando for para iterar os números de 1 a 5\n",
    "for contador in range(1,6):\n",
    "    resultado= resultado * contador \n",
    "    # Ou resultado *= contador\n",
    "    print(f'Multiplicando por {contador}, o resultado parcial é {resultado}')\n",
    "print(f'O resultado final da multiplicação de 1 a 5 é: {resultado}')"
   ]
  },
  {
   "cell_type": "code",
   "execution_count": 62,
   "metadata": {},
   "outputs": [
    {
     "name": "stdout",
     "output_type": "stream",
     "text": [
      "A soma dos números pares de 1 até 10 é: 0 \n",
      "A soma dos números pares de 1 até 10 é: 2 \n",
      "A soma dos números pares de 1 até 10 é: 6 \n",
      "A soma dos números pares de 1 até 10 é: 12 \n",
      "A soma dos números pares de 1 até 10 é: 20 \n",
      "A soma dos números pares de 1 até 10 é: 30 \n",
      "A soma dos números pares de 2 + 0 é: 2\n",
      "A soma dos números pares de 4 + 2 é: 6\n",
      "A soma dos números pares de 6 + 6 é: 12\n",
      "A soma dos números pares de 8 + 12 é: 20\n",
      "A soma dos números pares de 10 + 20 é: 30\n"
     ]
    }
   ],
   "source": [
    "\"\"\"\n",
    "Exercício: Soma de Números Pares:\n",
    "\n",
    "    Objetivo: Escreva um programa que peça ao usuário um número inteiro n\n",
    "    e some todos os números pares de 1 até n, incluindo o próprio n(se for par)\n",
    "    Utilize um loop for para esta tarefa\n",
    "\"\"\"\n",
    "soma = 0\n",
    "n = int(input('Informe um número inteiro posítivo:'))\n",
    "for numero in range(0,n+1,2):\n",
    "    soma += numero\n",
    "    print(f'A soma dos números pares de 1 até {n} é: {soma} ')\n",
    "\n",
    "soma = 0\n",
    "for numero in range(1,n+1):\n",
    "    if numero % 2 == 0:\n",
    "        print(f'A soma dos números pares de {numero} + {soma} é: {numero+soma}')\n",
    "        soma +=  numero\n",
    "    "
   ]
  }
 ],
 "metadata": {
  "kernelspec": {
   "display_name": "Python 3",
   "language": "python",
   "name": "python3"
  },
  "language_info": {
   "codemirror_mode": {
    "name": "ipython",
    "version": 3
   },
   "file_extension": ".py",
   "mimetype": "text/x-python",
   "name": "python",
   "nbconvert_exporter": "python",
   "pygments_lexer": "ipython3",
   "version": "3.11.4"
  }
 },
 "nbformat": 4,
 "nbformat_minor": 2
}
