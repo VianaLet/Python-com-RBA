{
 "cells": [
  {
   "cell_type": "code",
   "execution_count": 2,
   "metadata": {},
   "outputs": [
    {
     "name": "stdout",
     "output_type": "stream",
     "text": [
      "5\n",
      "17\n"
     ]
    }
   ],
   "source": [
    "# Função soma\n",
    "\"\"\"\n",
    "Função é um bloco de código que realiza uma tarefa espécifica e pode ser executado \n",
    "várias vezes em diferentes partes do programa. As funções ajudam a organizar e \n",
    "modularizar o código, tornando-o mais legível, reutilizável e fácil de manter.\n",
    "\"\"\"\n",
    "def soma(a, b):\n",
    "    return a + b\n",
    "\n",
    "resultado = soma(2, 3)\n",
    "print(resultado)\n",
    "resultado = soma(8, 9)\n",
    "print(resultado)"
   ]
  },
  {
   "cell_type": "code",
   "execution_count": 3,
   "metadata": {},
   "outputs": [
    {
     "name": "stdout",
     "output_type": "stream",
     "text": [
      "A soma de 5 e 4 é = 9\n"
     ]
    }
   ],
   "source": [
    "def soma(a, b):\n",
    "    return a + b\n",
    "\n",
    "n1 = float(input('Digite o primeiro número:'))\n",
    "n2 = float(input('Digite o segundo número:'))\n",
    "\n",
    "resultado = soma(n1,n2)\n",
    "print(f'A soma de {n1} e {n2} é = {resultado}')"
   ]
  },
  {
   "cell_type": "code",
   "execution_count": 4,
   "metadata": {},
   "outputs": [
    {
     "name": "stdout",
     "output_type": "stream",
     "text": [
      "Olá, João! Bem vindo!\n"
     ]
    }
   ],
   "source": [
    "# Parâmetros e Argumentos em uma função\n",
    "def saudacao(nome):\n",
    "    # Função que exibe uma saudação personalizada\n",
    "    print(f'Olá, {nome}! Bem vindo!')\n",
    "\n",
    "nome_usuario = input(\"Como gostaria de ser chamado?\")\n",
    "saudacao(nome_usuario)"
   ]
  },
  {
   "cell_type": "code",
   "execution_count": 6,
   "metadata": {},
   "outputs": [
    {
     "name": "stdout",
     "output_type": "stream",
     "text": [
      "Nome: João\n",
      "Idade: 25\n",
      "Cidade: São Paulo\n",
      "Nome: João\n",
      "Idade: 25\n",
      "Cidade: Desconhecida\n"
     ]
    }
   ],
   "source": [
    "# Argumentos Default e Non-default\n",
    "\"\"\"\n",
    "Em python, ao definir uma função, podemos atribuir valores padrão aos parâmetros \n",
    "da função. Esses valores padrão são chamados de 'argumentos defauls'(padrão) e \n",
    "permitem que vocÊ chame a função sem precisar fornecer valores para esses parâmetros\n",
    "\n",
    "Os argumentos non-default(não-padrão) são aqueles que não possuem um valor padrão \n",
    "atribuído na definição da função e, portanto, precisam ser fornecidos como argumentos \n",
    "quando a função é chamada\n",
    "\"\"\"\n",
    "# em cidade = 'desconhecida' eu estou estabelecendo uma valor padrão para o argumento \n",
    "def exibir_informacoes(nome, idade, cidade='Desconhecida'):\n",
    "    print(f'Nome: {nome}')\n",
    "    print(f'Idade: {idade}')\n",
    "    print(f'Cidade: {cidade}')\n",
    "# Argumentos sem valores default\n",
    "exibir_informacoes('João', 25, 'São Paulo')\n",
    "\n",
    "# Aqui vai mostrar o valor padrão definido na função\n",
    "exibir_informacoes('João', 25)\n"
   ]
  },
  {
   "cell_type": "code",
   "execution_count": null,
   "metadata": {},
   "outputs": [],
   "source": [
    "# Aqui são todos argumentos non-default\n",
    "def exibir_informacoes(nome, idade, cidade):\n",
    "    print(f'Nome: {nome}')\n",
    "    print(f'Idade: {idade}')\n",
    "    print(f'Cidade: {cidade}')"
   ]
  },
  {
   "cell_type": "code",
   "execution_count": 2,
   "metadata": {},
   "outputs": [
    {
     "name": "stdout",
     "output_type": "stream",
     "text": [
      "Nome: Allan\n",
      "Idade: 24\n",
      "Cidade: Desconhecida\n",
      "Nome: Letícia\n",
      "Idade: 25\n",
      "Cidade: Brasília\n"
     ]
    }
   ],
   "source": [
    "# Aqui são todos argumentos default\n",
    "def exibir_informacoes(nome='Allan', idade=24, cidade='Desconhecida'):\n",
    "    print(f'Nome: {nome}')\n",
    "    print(f'Idade: {idade}')\n",
    "    print(f'Cidade: {cidade}')\n",
    "# Argumentos com os valores padrões postos na definição da função logo acima\n",
    "exibir_informacoes()\n",
    "# Argumentos sem valores padrões\n",
    "exibir_informacoes('Letícia',25,'Brasília')"
   ]
  },
  {
   "cell_type": "code",
   "execution_count": 3,
   "metadata": {},
   "outputs": [
    {
     "name": "stdout",
     "output_type": "stream",
     "text": [
      "Olá, Letícia! Bem-vindo(a) ao nosso programa\n",
      "O resultado da soma é: 7\n"
     ]
    }
   ],
   "source": [
    "# Exemplo com print():\n",
    "def saudacao(nome):\n",
    "    \"\"\" Função que imprime uma saudação personalizada.\"\"\"\n",
    "    print(f'Olá, {nome}! Bem-vindo(a) ao nosso programa')\n",
    "saudacao('Letícia')\n",
    "\n",
    "# Exemplo com return:\n",
    "def soma(a,b):\n",
    "    \"\"\" Função que retorna a soma de dois números\"\"\"\n",
    "    return a + b\n",
    "resultado = soma(3,4)\n",
    "print(f'O resultado da soma é: {resultado}')"
   ]
  },
  {
   "cell_type": "code",
   "execution_count": 5,
   "metadata": {},
   "outputs": [
    {
     "name": "stdout",
     "output_type": "stream",
     "text": [
      "29\n"
     ]
    }
   ],
   "source": [
    "# Vários argumentos *args com números\n",
    "\"\"\"\n",
    "Parâmetro especial *args, que permite receber um número variável de argumentos\n",
    "númericos. Dentro da função, os argumentos são tratados como uma tupla\n",
    "\"\"\"\n",
    "def soma(*args):\n",
    "    # Função que retorna a soma de vários números\n",
    "    resultado = sum(args)\n",
    "    return resultado\n",
    "total = soma(2,4,5,8,10)\n",
    "print(total)\n",
    "\"\"\" Dessa forma, a função soma() é capaz de lidar com qualquer quantidade de \n",
    "argumentos númericos e retona a soma total desses números\n",
    "\"\"\""
   ]
  },
  {
   "cell_type": "code",
   "execution_count": 31,
   "metadata": {},
   "outputs": [
    {
     "name": "stdout",
     "output_type": "stream",
     "text": [
      "A estatísticas desse conjunto de números:\n",
      "Maior número: 20.0\n",
      "Menor número: 10.0\n",
      "A média: 13.333333333333334\n"
     ]
    }
   ],
   "source": [
    "\"\"\"\n",
    "Exercício: Função para calcular Estatísticas de Números\n",
    "Instruções:\n",
    "    1. Defina uma função chamada estatisticas que aceite um número variável de \n",
    "    argumentos númericos.\n",
    "    2. A função deve retornar a média, o maio e o menor número do conjunto\n",
    "    3. Peça ao usuário para inserir uma sequência de números, separados por espaços\n",
    "    4. Converta essa entrada do usuário em uma lista de números\n",
    "    5. Use a função estatisticas para calcular a média, o maio e o menor número da\n",
    "    lista\n",
    "    6. Mostre ao usuário a média, o maior e o menor número\n",
    "\"\"\"\n",
    "def estatisticas(*args):\n",
    "    maior = max(args)\n",
    "    menor = min(args)\n",
    "    media =  sum(args)/len(args)\n",
    "    print(f'A estatísticas desse conjunto de números:')\n",
    "    print(f'Maior número: {maior}')\n",
    "    print(f'Menor número: {menor}')\n",
    "    print(f'A média: {media}')\n",
    "\n",
    "numeros = input('Digite um conjunto de números, separados por espaço:')\n",
    "numeros = numeros.split( )\n",
    "lista_numeros = []\n",
    "for item in numeros:\n",
    "        lista_numeros.append(float(item))\n",
    "        \n",
    "\n",
    "estatisticas(*lista_numeros)\n",
    "#"
   ]
  },
  {
   "cell_type": "code",
   "execution_count": 25,
   "metadata": {},
   "outputs": [
    {
     "name": "stdout",
     "output_type": "stream",
     "text": [
      "[10.0, 2.0, 5.0, 8.0, 60.0]\n",
      "Média: 17.0\n",
      "Maior Número:60.0\n",
      "Menor Número:2.0\n"
     ]
    }
   ],
   "source": [
    "# Resolução do exercício \n",
    "def estatisticas(*args):\n",
    "    return sum(args)/len(args), max(args), min(args)\n",
    "# Função map(float, ...) é usada para aplicar a função float() a cada elemento \n",
    "# da lista de strings\n",
    "# List(...): O resultado da função map(floa, ...) é convertido em uma lista de números\n",
    "#de ponto flutuante. Isso é feito para garantir que todos os números da sequência\n",
    "#digitada sejam tratados como valores numéricos de ponto flutuante \n",
    "\n",
    "numeros = list(map(float, input('Digite uma sequência de números separados por espaços').split(' ')))\n",
    "# O operador * serve para desempacotar os números lista numeros\n",
    "media, maior, menor = estatisticas(*numeros)\n",
    "print(numeros)\n",
    "print(f'Média: {media}\\nMaior Número:{maior}\\nMenor Número:{menor}')"
   ]
  },
  {
   "cell_type": "code",
   "execution_count": null,
   "metadata": {},
   "outputs": [],
   "source": [
    "def estatisticas(*args):\n",
    "    return sum(args)/len(args), max(args), min(args)\n",
    "\n",
    "numeros = list(map(float, input('Digite uma sequência de números separados por espaços').split(' ')))\n",
    "media, maior, menor = estatisticas(*numeros)\n",
    "print(numeros)\n",
    "print(f'Média: {media}\\nMaior Número:{maior}\\nMenor Número:{menor}')"
   ]
  },
  {
   "cell_type": "code",
   "execution_count": 1,
   "metadata": {},
   "outputs": [
    {
     "name": "stdout",
     "output_type": "stream",
     "text": [
      "nome : João\n",
      "idade : 25\n",
      "cidade : São Paulo\n",
      "sexo : Masculino\n"
     ]
    }
   ],
   "source": [
    "# Vários argumentos xargs nomeando parametros\n",
    "\"\"\"\n",
    "Em Python, **kwargs é um parâmetro especial usado em definições de função\n",
    "para capturar argumentos nomeados extras passados para a função.\n",
    "O termo 'kwargs' é uma convenção comumento ussada, mas o nome em si pode ser\n",
    "qualquer outro desde que seja precedido por dois asteriscos (**)\n",
    "\n",
    "O parâmetro **kwargs permite que uma função aceite um número variável de argumentos \n",
    "nomeados adicionais. Os argumentos nomeados extras são passados para a função como \n",
    "um dicionário, onde as chaves são os somes dos argumentos e o valores são as atribuições\n",
    "a esses argumentos\n",
    "\n",
    "\"\"\"\n",
    "def exibir_informacoes(**kwargs):\n",
    "    \"\"\"Função que exibe informações pessoais\"\"\"\n",
    "    for chave, valor in kwargs.items():\n",
    "        print(f'{chave} : {str(valor)}')\n",
    "\n",
    "exibir_informacoes(nome='João', idade=25, cidade ='São Paulo', sexo ='Masculino')"
   ]
  },
  {
   "cell_type": "markdown",
   "metadata": {},
   "source": [
    "\n",
    "## Escopo de Variáveis\n",
    "1. o    Variáveis locaix vs. globais\n",
    "2. o    Uso do global\n",
    "3. o    Uso do nonlocal (em funções aninhadas)\n",
    "\n",
    "### Variáveis Locais vs Globais\n",
    "Uma variável definida dentro de uma função é chamada de variável local, enquanto uma definida fora de todas as funções é chamada de variável global\n"
   ]
  },
  {
   "cell_type": "code",
   "execution_count": 5,
   "metadata": {},
   "outputs": [
    {
     "name": "stdout",
     "output_type": "stream",
     "text": [
      "Eu sou uma variável local\n",
      "Eu sou uma variável global\n",
      "oi\n",
      "oi\n"
     ]
    }
   ],
   "source": [
    "# Definindo uma variável global fora  de qualquer função\n",
    "variavel_global = 'Eu sou uma variável global'\n",
    "\n",
    "# Definindo a função funcao_exemplo\n",
    "def funcao_exemplo():\n",
    "    global variavel_global  # isso aqui permite que mudemos o valor da variável global\n",
    "    # Criando uma variável local dentro de uma função\n",
    "    variavel_local = 'Eu sou uma variável local'\n",
    "\n",
    "    # Imprimindo a variável local\n",
    "    print(variavel_local)\n",
    "\n",
    "    # Imprimindo a variável global dentro da função(é possível acessálka, mas\n",
    "    # para modificá-la, precisariámos usar a palavra-chave 'global )\n",
    "    print(variavel_global)\n",
    "    variavel_global = 'oi'\n",
    "    print(variavel_global)\n",
    "\n",
    "funcao_exemplo()\n",
    "\n",
    "print(variavel_global)"
   ]
  },
  {
   "cell_type": "markdown",
   "metadata": {},
   "source": [
    "### Uso do global\n",
    "Para modificar uma variável global dentro de uma função, você precisa\n",
    "usar a palavra-chave global:\n",
    "```python\n",
    "contador = 0\n",
    "def incrementar_contador():\n",
    "    # Informando à função que vamor usar a variável global 'contador' e não uma variável local\n",
    "    global contador\n",
    "\n",
    "    # Incrementando o valor da variável global 'contador'\n",
    "    contador += 1\n",
    "    # Imprimindo o valor atualizado de 'contator'\n",
    "    print(contador)\n",
    "\n",
    "# Chamando a função 'incrementar_contador' pela primeira vez\n",
    "# Agora, 'contador' é incrementado para 1 e imprime o valor\n",
    "incrementar_contador() # imprime 1\n",
    "\n",
    "# Chamando a função 'incrementar_contador' novamente\n",
    "# Agora, 'contador' é incrementado para 2 e o novo valor é impresso\n",
    "incrementar_contador() # imprime 2\n",
    "\n",
    "\n",
    "```"
   ]
  },
  {
   "cell_type": "code",
   "execution_count": 9,
   "metadata": {},
   "outputs": [
    {
     "name": "stdout",
     "output_type": "stream",
     "text": [
      "1\n",
      "2\n",
      "3\n"
     ]
    }
   ],
   "source": [
    "contador = 0\n",
    "def incrementar_contador():\n",
    "    # Informando à função que vamor usar a variável global 'contador' e não uma variável local\n",
    "    global contador\n",
    "\n",
    "    # Incrementando o valor da variável global 'contador'\n",
    "    contador += 1\n",
    "    # Imprimindo o valor atualizado de 'contator'\n",
    "    print(contador)\n",
    "\n",
    "# Chamando a função 'incrementar_contador' pela primeira vez\n",
    "# Agora, 'contador' é incrementado para 1 e imprime o valor\n",
    "incrementar_contador() # imprime 1\n",
    "\n",
    "# Chamando a função 'incrementar_contador' novamente\n",
    "# Agora, 'contador' é incrementado para 2 e o novo valor é impresso\n",
    "incrementar_contador() # imprime 2\n",
    "\n",
    "incrementar_contador() # imprime 3"
   ]
  },
  {
   "cell_type": "code",
   "execution_count": 10,
   "metadata": {},
   "outputs": [
    {
     "name": "stdout",
     "output_type": "stream",
     "text": [
      "Eu sou externa\n",
      "Eu fui modificada pela função interna\n",
      "Eu fui modificada pela função interna\n"
     ]
    }
   ],
   "source": [
    "# Definindo a função 'fucao_externa'\n",
    "def funcao_externa():\n",
    "    # Criando uma variável dentro do escopo da funcao_externa\n",
    "    variavel_externa = 'Eu sou externa'\n",
    "    print(variavel_externa)\n",
    "    # Definindo uma função aninhada chamada 'funca_interna' dentro da funcao_externa\n",
    "    def funcao_interna():\n",
    "        \n",
    "        # Usando a palavra-chave 'nonlocal' para indicar que queremos modificar\n",
    "        # a 'variavel_externa' do escopo imediatamente superior,\n",
    "        #  ou seja, da funcao_externa\n",
    "        nonlocal variavel_externa\n",
    "        \n",
    "        \n",
    "        # Modificando a variavel\n",
    "        variavel_externa = 'Eu fui modificada pela função interna'\n",
    "        print(variavel_externa)\n",
    "        \n",
    "    funcao_interna()\n",
    "\n",
    "    print(variavel_externa)\n",
    "\n",
    "funcao_externa()\n"
   ]
  },
  {
   "cell_type": "markdown",
   "metadata": {},
   "source": [
    "### Funções como objetos de Primeia Classe\n",
    "\n",
    "* Atribuindo funções a variáveis\n",
    "* Passando funções como argumentos\n",
    "* Retornando funções de outras funções\n",
    "\n",
    "Funções são objetos de primeira classe. Isso significa que elas podem ser tratadas como qualquer outro objeto, como strings, listas ou até mesmo classes.\n",
    "\n",
    "Logo abaixo estão exemplos dos trê casos mencionados"
   ]
  },
  {
   "cell_type": "code",
   "execution_count": 25,
   "metadata": {},
   "outputs": [
    {
     "name": "stdout",
     "output_type": "stream",
     "text": [
      "Olá, mundo!\n",
      "Olá, mundo!\n",
      "Olá, mundo!\n",
      "Olá, mundo!\n"
     ]
    }
   ],
   "source": [
    "### Atribuindo funções a variáveis\n",
    "def saudacao():\n",
    "    return 'Olá, mundo!'\n",
    "cumprimentar = saudacao\n",
    "print(saudacao())\n",
    "print(cumprimentar())\n",
    "\n",
    "# Ou dessa maneira também\n",
    "def saudacao2():\n",
    "    return 'Olá, mundo!'\n",
    "cumprimentar2 = saudacao()\n",
    "print(saudacao2())\n",
    "print(cumprimentar2)\n",
    "\n"
   ]
  },
  {
   "cell_type": "code",
   "execution_count": 24,
   "metadata": {},
   "outputs": [
    {
     "name": "stdout",
     "output_type": "stream",
     "text": [
      "Olá,Alice\n"
     ]
    }
   ],
   "source": [
    "# Passando funções como argumentos\n",
    "\n",
    "# definindo duas funções simples\n",
    "def Saudacao_nome(nome):\n",
    "\n",
    "    return f'Olá,{nome}'\n",
    "\n",
    "def cumprimentar(funcao, nome):\n",
    "\n",
    "    return funcao(nome)\n",
    "\n",
    "# Usando a função 'cumprimentar' e passando 'saudacao_nome' como argumento\n",
    "print(cumprimentar(Saudacao_nome,'Alice'))"
   ]
  },
  {
   "cell_type": "code",
   "execution_count": 29,
   "metadata": {},
   "outputs": [
    {
     "name": "stdout",
     "output_type": "stream",
     "text": [
      "Oi!\n",
      "Olá, como vocÊ está?\n"
     ]
    }
   ],
   "source": [
    "# Retornando funções de outras funções\n",
    "\n",
    "# Definindo uma função que retorna outra função\n",
    "def nivel_saudacao(nivel):\n",
    "\n",
    "    def saudacao_basica():\n",
    "\n",
    "        return \"Oi!\"\n",
    "    def saudacao_avancada():\n",
    "        return \"Olá, como vocÊ está?\"\n",
    "    if nivel == 'basico':\n",
    "        return saudacao_basica\n",
    "    else:\n",
    "        return saudacao_avancada\n",
    "# Chamando a função 'nivel_saudacao' que retorna um função, \n",
    "# e depois chamando a função retornada    \n",
    "cumprimento = nivel_saudacao('basico')\n",
    "print(cumprimento())    # Saída: Oi!\n",
    "\n",
    "cumprimento = nivel_saudacao('Teste')\n",
    "print(cumprimento()) # Saída: Olá, como você está?\n"
   ]
  },
  {
   "cell_type": "code",
   "execution_count": 2,
   "metadata": {},
   "outputs": [
    {
     "data": {
      "text/plain": [
       "24.0"
      ]
     },
     "execution_count": 2,
     "metadata": {},
     "output_type": "execute_result"
    }
   ],
   "source": [
    "\"\"\"\"\n",
    "Calculadora Simples com funções\n",
    "Objetivo: Criar uma calculadora simples que pode realizar quatro operações \n",
    "básicas: adição, subtração, multiplicação e divisão.\n",
    "\n",
    "O usuário deverá fornecer dois números e a operação desejada. A solução deve \n",
    "ser implementada usando funções\n",
    "\n",
    "Instruções: \n",
    "\n",
    "    Defina quatro funções: adicionar(), subtrair(), multiplicar() e dividir()\n",
    "\n",
    "    - Cada função deve aceitar dois parâmetros(números) e retornar o resultado \n",
    "    da operação correspondente\n",
    "    - Peça ao usuário para inserir dois números.\n",
    "    - Peça ao usuário para escolher uma das quatro operações(por exemplo, ele pode\n",
    "    digitar 'adicionar' para)\n",
    "    - Com base na escolha do usuário, chame a função correspondente e imprima o resultado\n",
    "\n",
    "\n",
    "\"\"\"\n",
    "def operador(n1,operador, n2):\n",
    "    \n",
    "    def adicionar():\n",
    "        return n1 + n2\n",
    "    ad = adicionar\n",
    "    def subtrair():\n",
    "        return n1 - n2\n",
    "    \n",
    "    def multiplicar():\n",
    "        return n1 * n2\n",
    "    def dividir():\n",
    "        return n1/n2\n",
    "    if operador == '+':\n",
    "        return adicionar()\n",
    "        \n",
    "    elif operador == '-':\n",
    "        return subtrair()\n",
    "    elif operador == '*':\n",
    "        return multiplicar()\n",
    "    elif operador == '/' and n2 != 0:\n",
    "        return dividir()\n",
    "    else:\n",
    "        print('Entrada inválida')\n",
    "#operador(float(input('Digite um número: ')),input('Informe o operador:'), float(input('Digite o segundo número:')))\n",
    "\n",
    "operador(float(input()),input(), float(input()))"
   ]
  },
  {
   "cell_type": "code",
   "execution_count": 3,
   "metadata": {},
   "outputs": [
    {
     "name": "stdout",
     "output_type": "stream",
     "text": [
      "Resultado: 60.0\n"
     ]
    }
   ],
   "source": [
    "# Resolução do prof\n",
    "\n",
    "# Definindo as funções básicas\n",
    "def adicionar(a,b):\n",
    "    # retorna a soma de  a e b\n",
    "    return a+b\n",
    "\n",
    "def subtrair(a,b):\n",
    "    # retorna a subtração de a e b\n",
    "    return a-b\n",
    "\n",
    "def multiplicar(a,b):\n",
    "    # retorna a multiplicação de a*b\n",
    "    return a*b\n",
    "\n",
    "def dividir(a,b):\n",
    "    # retorna a divisão de a e b\n",
    "    if b != 0:\n",
    "        return a/b\n",
    "\n",
    "num1 = float(input('Digite o primeiro número: '))\n",
    "num2 = float(input('Digite o segundo número:'))\n",
    "\n",
    "op = input('Escolha uma operação (adicionar,subtrair, multiplicar e dividir)')\n",
    "\n",
    "if op == 'adicionar':\n",
    "\n",
    "    resultado = adicionar(num1, num2)\n",
    "\n",
    "elif op == 'subtrair':\n",
    "\n",
    "    resultado = subtrair(num1,num2)\n",
    "\n",
    "elif op == 'dividir' and num2 != 0:\n",
    "\n",
    "    resultado = dividir(num1,num2)\n",
    "\n",
    "elif op == 'multiplicar':\n",
    "\n",
    "    resultado = multiplicar(num1,num2)\n",
    "else:\n",
    "    print('Operação inválida!')\n",
    "print(f'Resultado: {resultado}')"
   ]
  },
  {
   "cell_type": "code",
   "execution_count": 3,
   "metadata": {},
   "outputs": [
    {
     "data": {
      "text/plain": [
       "(5.0, 5.0)"
      ]
     },
     "execution_count": 3,
     "metadata": {},
     "output_type": "execute_result"
    }
   ],
   "source": [
    "\"\"\"\n",
    "Desafio extra:\n",
    "Adpate a fábria para aceitar operações com mais de dois números. Por exemplo,\n",
    "a operação de soma deve ser capazde somar três, quatro  ou mais números de uma só vez\n",
    "Deica: Utilize argumentos variáveis (*args) para essa adaptação.\n",
    "\n",
    "\"\"\"\n",
    "\n",
    "def operador(operador):\n",
    "    \n",
    "    def adicionar(*args):\n",
    "        args += args \n",
    "        return args\n",
    "    ad = adicionar\n",
    "    def subtrair(*args):\n",
    "        args -= args\n",
    "        return args\n",
    "    \n",
    "    def multiplicar(*args):\n",
    "        args *= args\n",
    "        return args\n",
    "    def dividir(*args):\n",
    "\n",
    "        return  args/args\n",
    "    if operador == '+':\n",
    "        return adicionar(float(input()))\n",
    "        \n",
    "    elif operador == '-':\n",
    "        return subtrair()\n",
    "    elif operador == '*':\n",
    "        return multiplicar()\n",
    "    elif operador == '/' and n2 != 0:\n",
    "        return dividir()\n",
    "    else:\n",
    "        print('Entrada inválida')\n",
    "operador(input('Digite uma operação'))"
   ]
  },
  {
   "cell_type": "code",
   "execution_count": 7,
   "metadata": {},
   "outputs": [
    {
     "name": "stdout",
     "output_type": "stream",
     "text": [
      "10\n",
      "15\n",
      "30\n",
      "2.5\n",
      "Operação não suportada\n"
     ]
    }
   ],
   "source": [
    "def fabrica(operacao):\n",
    "    \n",
    "    # Esta função recebe um número indefinido de argumentos e os soma\n",
    "    def soma(*args):\n",
    "\n",
    "        return sum(args)\n",
    "    \n",
    "    # Esta função subtrai todos os números subsequentes do primeiro número.\n",
    "    def subtracao(*args):\n",
    "\n",
    "        resultado = args[0]\n",
    "\n",
    "        # Itera sobre todos os números após o primeiro\n",
    "        for num in args[1:]:\n",
    "\n",
    "            resultado -= num # resultado = resultado - num\n",
    "            \n",
    "        return resultado\n",
    "    \n",
    "    # Esta função multiplica todos os números fornecidos\n",
    "    def multiplicacao(*args):\n",
    "        resultado = 1\n",
    "\n",
    "        # Itera sobre todos os números e os multiplica\n",
    "        for num in args:\n",
    "\n",
    "            resultado *= num # resultado = resultado * num\n",
    "        \n",
    "        return resultado\n",
    "    \n",
    "    # Esta função divide o primeiro número pelos números subsequentes\n",
    "    def divisao(*args):\n",
    "        resultado = args[0]\n",
    "\n",
    "        # Itera sobre todos os números após o primeiro\n",
    "        for num in args[1:]:\n",
    "\n",
    "            # Verifica se algum número é zeco(para evitar divisão por zero)\n",
    "            if num == 0:\n",
    "           \n",
    "                raise ValueError('Divisão por zero não é permitida')\n",
    "            \"\"\"\n",
    "            é usada para lançar (ou 'raise' em inglês), uma exceção do tipo ValueError\n",
    "            Em programação, uma exceção é uma forma de sinalizar que algo inesperado aconteceu \n",
    "            durante a execução de um programa. Quando uma exceção é lançada e não tratada,\n",
    "            ela interrompe a execução do programa e produz uma mensagem de erro.\n",
    "\n",
    "            A razão pela qual lançamos essa exceção específica é porque a divisão por zero\n",
    "            é matemáticamente indefinida e resultaria em um erro se tentássemos fazer\n",
    "            isso em Python(ou na maioria das linguagens de programação). Em vez de permitir\n",
    "            que o erro ocorra, detectamos o caso em que um número é dividido por zero e \n",
    "            lançamos uma exceção com uma mensagem explicativa.\n",
    "\n",
    "            Em outras palavras, essa linha foi adicionada para:\n",
    "\n",
    "            1- Previnir a ocorrência de um erro de divisão por zero            \n",
    "\n",
    "            2- Fornecer uma mensagem de erro amigável e explicativa para o usuário,\n",
    "            informando-o do problema\n",
    "            \"\"\"\n",
    "\n",
    "            resultado /= num\n",
    "\n",
    "        return resultado\n",
    "    \n",
    "    if operacao == 'x':\n",
    "        \n",
    "        return multiplicacao\n",
    "    \n",
    "    elif operacao == '/':\n",
    "        \n",
    "        return divisao\n",
    "    \n",
    "    elif operacao == '+':\n",
    "        \n",
    "        return soma\n",
    "    \n",
    "    elif operacao == '-':\n",
    "\n",
    "        return subtracao\n",
    "    \n",
    "    else:\n",
    "\n",
    "        def nao_suportada(*args):\n",
    "\n",
    "            return 'Operação não suportada'\n",
    "        \n",
    "        return nao_suportada\n",
    "# Testando o código\n",
    "adicionar = fabrica('+')\n",
    "print(adicionar(5, 3, 2))   # esperado: 10\n",
    "\n",
    "subtrair = fabrica('-')\n",
    "print(subtrair(50, 30, 5)) # esperando: 15\n",
    "\n",
    "multiplicar = fabrica('x')\n",
    "print(multiplicar(5,3,2)) # Esperando: 30\n",
    "\n",
    "dividir = fabrica('/')\n",
    "print(dividir(10, 2 , 2)) # Esperando : 2.5\n",
    "\n",
    "invalida = fabrica('modulo')\n",
    "print(invalida(10, 2 ,0)) # Esperando : Operação não suportada"
   ]
  },
  {
   "cell_type": "code",
   "execution_count": null,
   "metadata": {},
   "outputs": [],
   "source": []
  }
 ],
 "metadata": {
  "kernelspec": {
   "display_name": "Python 3",
   "language": "python",
   "name": "python3"
  },
  "language_info": {
   "codemirror_mode": {
    "name": "ipython",
    "version": 3
   },
   "file_extension": ".py",
   "mimetype": "text/x-python",
   "name": "python",
   "nbconvert_exporter": "python",
   "pygments_lexer": "ipython3",
   "version": "3.11.4"
  }
 },
 "nbformat": 4,
 "nbformat_minor": 2
}
