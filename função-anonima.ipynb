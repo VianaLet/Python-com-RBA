{
 "cells": [
  {
   "cell_type": "markdown",
   "metadata": {},
   "source": [
    "# Funçõe anônimas  (Lambda)\n",
    "\n",
    "Função lambda\n",
    "\n",
    "São funções anônimas de pequena extensão. Ao contrário de uma função definida com def, a função lambda pode ter apenas um expressão e retorna implicitamente o resultato dessa expressão. Ela é frequentemente usada para pequenas operações que são convenientes de se definir sem nomear uma função completa\n"
   ]
  },
  {
   "cell_type": "code",
   "execution_count": 3,
   "metadata": {},
   "outputs": [
    {
     "name": "stdout",
     "output_type": "stream",
     "text": [
      "10\n",
      "16\n"
     ]
    }
   ],
   "source": [
    "# Exemplo prático 1: Definição e uso\n",
    "\n",
    "# Função Regular para Dobrar um número\n",
    "def dobrar (n):\n",
    "    return n*2\n",
    "\n",
    "print(dobrar(5)) # Saída 10\n",
    "\n",
    "# Função Lambda para dobrar um número\n",
    "dobrar_com_lambda = lambda n: n*2\n",
    "\n",
    "print(dobrar_com_lambda(8))"
   ]
  },
  {
   "cell_type": "code",
   "execution_count": null,
   "metadata": {},
   "outputs": [],
   "source": [
    "idade = 17\n",
    "nome = 'Bob'\n",
    "if idade > 13:\n",
    "    if nome == 'Bob':\n",
    "        print('Ok, Bob, você está autorizado a entrar')\n",
    "    else:\n",
    "        print('Desculpe, mas você não pode entrar1')\n",
    "\n",
    "# Usando operadores lógicos\n",
    "if idade > 13 and nome == 'Bob':\n",
    "    print('Ok Bob, você está autozidado a entrar')\n",
    "\n",
    "# Posso separar por parenteses também. - Deixa o código mais legível\n",
    "if (idade> 13) and (nome == 'Bob'):\n",
    "    \n",
    "    print('Ok Bob, você está autozidado a entrar')\n"
   ]
  },
  {
   "cell_type": "markdown",
   "metadata": {},
   "source": [
    "### Operadores Lógicos funcionam assim:\n",
    "**and** - Retorna True se **AMBAS** as declarações forem verdadeiras\n",
    "\n",
    "**or** - Retorna Ture se pelo mnos uma das declarações for verdadeira\n",
    "\n",
    "**not** - Inverte o resultado, retorna False se o resultado for True"
   ]
  },
  {
   "cell_type": "code",
   "execution_count": null,
   "metadata": {},
   "outputs": [],
   "source": []
  },
  {
   "cell_type": "code",
   "execution_count": null,
   "metadata": {},
   "outputs": [],
   "source": []
  },
  {
   "cell_type": "code",
   "execution_count": null,
   "metadata": {},
   "outputs": [],
   "source": []
  }
 ],
 "metadata": {
  "kernelspec": {
   "display_name": "Python 3",
   "language": "python",
   "name": "python3"
  },
  "language_info": {
   "codemirror_mode": {
    "name": "ipython",
    "version": 3
   },
   "file_extension": ".py",
   "mimetype": "text/x-python",
   "name": "python",
   "nbconvert_exporter": "python",
   "pygments_lexer": "ipython3",
   "version": "3.11.4"
  }
 },
 "nbformat": 4,
 "nbformat_minor": 2
}
