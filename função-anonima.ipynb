{
 "cells": [
  {
   "cell_type": "markdown",
   "metadata": {},
   "source": [
    "# Funçõe anônimas  (Lambda)\n",
    "\n",
    "Função lambda\n",
    "\n",
    "São funções anônimas de pequena extensão. Ao contrário de uma função definida com def, a função lambda pode ter apenas um expressão e retorna implicitamente o resultato dessa expressão. Ela é frequentemente usada para pequenas operações que são convenientes de se definir sem nomear uma função completa\n"
   ]
  },
  {
   "cell_type": "code",
   "execution_count": 3,
   "metadata": {},
   "outputs": [
    {
     "name": "stdout",
     "output_type": "stream",
     "text": [
      "10\n",
      "16\n"
     ]
    }
   ],
   "source": [
    "# Exemplo prático 1: Definição e uso\n",
    "\n",
    "# Função Regular para Dobrar um número\n",
    "def dobrar (n):\n",
    "    return n*2\n",
    "\n",
    "print(dobrar(5)) # Saída 10\n",
    "\n",
    "# Função Lambda para dobrar um número\n",
    "dobrar_com_lambda = lambda n: n*2\n",
    "\n",
    "print(dobrar_com_lambda(8))"
   ]
  },
  {
   "cell_type": "code",
   "execution_count": null,
   "metadata": {},
   "outputs": [],
   "source": []
  }
 ],
 "metadata": {
  "kernelspec": {
   "display_name": "Python 3",
   "language": "python",
   "name": "python3"
  },
  "language_info": {
   "codemirror_mode": {
    "name": "ipython",
    "version": 3
   },
   "file_extension": ".py",
   "mimetype": "text/x-python",
   "name": "python",
   "nbconvert_exporter": "python",
   "pygments_lexer": "ipython3",
   "version": "3.11.4"
  }
 },
 "nbformat": 4,
 "nbformat_minor": 2
}
