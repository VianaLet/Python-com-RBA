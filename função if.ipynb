{
 "cells": [
  {
   "cell_type": "markdown",
   "metadata": {},
   "source": [
    "# Função if"
   ]
  },
  {
   "cell_type": "code",
   "execution_count": 1,
   "metadata": {},
   "outputs": [
    {
     "name": "stdout",
     "output_type": "stream",
     "text": [
      "O número 1 é mais que o número 2\n"
     ]
    }
   ],
   "source": [
    "numero1 = 90\n",
    "numero2 = 12\n",
    "\n",
    "# Se a baroável numero1 é maior que a variável numero2\n",
    "if numero1 > numero2:\n",
    "    # Vai realizar o seguinte comando se a condição for verdadeira\n",
    "    print('O número 1 é mais que o número 2')"
   ]
  },
  {
   "cell_type": "code",
   "execution_count": 2,
   "metadata": {},
   "outputs": [
    {
     "name": "stdout",
     "output_type": "stream",
     "text": [
      "Os números são iguais\n"
     ]
    }
   ],
   "source": [
    "# Python função if... elif\n",
    "\n",
    "numero1 = 6\n",
    "numero2 = 6\n",
    "\n",
    "if numero1 > numero2:\n",
    "    print('O número da variável numero1 é maior que o número da variável numero2')\n",
    "\n",
    "elif numero1 == numero2:\n",
    "    print('Os números são iguais')"
   ]
  },
  {
   "cell_type": "code",
   "execution_count": null,
   "metadata": {},
   "outputs": [],
   "source": [
    "# Função if e else"
   ]
  },
  {
   "cell_type": "code",
   "execution_count": 4,
   "metadata": {},
   "outputs": [
    {
     "name": "stdout",
     "output_type": "stream",
     "text": [
      "Não foi dessa vez\n"
     ]
    }
   ],
   "source": [
    "import random # Importando a biblioteca random\n",
    "# Define o número secreto aleatoriamente\n",
    "sorteado = random.randint(1,10)\n",
    "\n",
    "# Solicitando o número para o usuário inserir e o convertendo em inteiro\n",
    "chute = int(input('Digite um número entre 1 e 10: '))\n",
    "\n",
    "if chute == sorteado:\n",
    "    print('Parabéns você acertou o número sorteado')\n",
    "else:\n",
    "    print('Não foi dessa vez')\n"
   ]
  },
  {
   "cell_type": "code",
   "execution_count": 5,
   "metadata": {},
   "outputs": [
    {
     "name": "stdout",
     "output_type": "stream",
     "text": [
      "Você não está elegível para votar\n"
     ]
    }
   ],
   "source": [
    "idade = int(input('Informe sua idade: '))\n",
    "\n",
    "if idade >= 18:\n",
    "    print('Você está elegível para votar')\n",
    "else:\n",
    "    print('Você não está elegível para votar')"
   ]
  },
  {
   "cell_type": "code",
   "execution_count": 16,
   "metadata": {},
   "outputs": [
    {
     "name": "stdout",
     "output_type": "stream",
     "text": [
      "50\n",
      "7\n",
      "7\n",
      "9\n",
      "24\n",
      "1\n",
      "[]\n"
     ]
    }
   ],
   "source": [
    "# Elaborador de jogos da Milionária\n",
    "import random\n",
    "numeros = []\n",
    "for i in range(0,6):\n",
    "\n",
    "    numero = random.randint(1,50)\n",
    "    print(numero)\n",
    "    n = numero\n",
    "    if n != numero:\n",
    "        numeros[i] += numero\n",
    "\n",
    "print(numeros)\n"
   ]
  },
  {
   "cell_type": "code",
   "execution_count": 159,
   "metadata": {},
   "outputs": [
    {
     "name": "stdout",
     "output_type": "stream",
     "text": [
      "Números:\n",
      "32\n",
      "34\n",
      "32\n",
      "49\n",
      "14\n",
      "29\n",
      "Trevos:\n",
      "3\n",
      "6\n"
     ]
    }
   ],
   "source": [
    "import random\n",
    "numeros = list(range(1,51))\n",
    "trevos = list(range(1,7))\n",
    "print('Números:')\n",
    "for numero in range(0,6):\n",
    "    print(random.choice(numeros))\n",
    "print('Trevos:')\n",
    "for i in range(0,2):\n",
    "    trevo = random.choice(trevos)\n",
    "    ran = trevo\n",
    "    if trevo == ran:\n",
    "        trevo = random.choice(trevos)\n",
    "        ran = trevo\n",
    "        print(trevo)"
   ]
  }
 ],
 "metadata": {
  "kernelspec": {
   "display_name": "Python 3",
   "language": "python",
   "name": "python3"
  },
  "language_info": {
   "codemirror_mode": {
    "name": "ipython",
    "version": 3
   },
   "file_extension": ".py",
   "mimetype": "text/x-python",
   "name": "python",
   "nbconvert_exporter": "python",
   "pygments_lexer": "ipython3",
   "version": "3.11.4"
  }
 },
 "nbformat": 4,
 "nbformat_minor": 2
}
