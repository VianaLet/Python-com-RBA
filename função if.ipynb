{
 "cells": [
  {
   "cell_type": "markdown",
   "metadata": {},
   "source": [
    "# Função if"
   ]
  },
  {
   "cell_type": "code",
   "execution_count": 1,
   "metadata": {},
   "outputs": [
    {
     "name": "stdout",
     "output_type": "stream",
     "text": [
      "O número 1 é mais que o número 2\n"
     ]
    }
   ],
   "source": [
    "numero1 = 90\n",
    "numero2 = 12\n",
    "\n",
    "# Se a baroável numero1 é maior que a variável numero2\n",
    "if numero1 > numero2:\n",
    "    # Vai realizar o seguinte comando se a condição for verdadeira\n",
    "    print('O número 1 é mais que o número 2')"
   ]
  },
  {
   "cell_type": "code",
   "execution_count": 2,
   "metadata": {},
   "outputs": [
    {
     "name": "stdout",
     "output_type": "stream",
     "text": [
      "Os números são iguais\n"
     ]
    }
   ],
   "source": [
    "# Python função if... elif\n",
    "\n",
    "numero1 = 6\n",
    "numero2 = 6\n",
    "\n",
    "if numero1 > numero2:\n",
    "    print('O número da variável numero1 é maior que o número da variável numero2')\n",
    "\n",
    "elif numero1 == numero2:\n",
    "    print('Os números são iguais')"
   ]
  },
  {
   "cell_type": "code",
   "execution_count": null,
   "metadata": {},
   "outputs": [],
   "source": [
    "# Função if e else"
   ]
  },
  {
   "cell_type": "code",
   "execution_count": 4,
   "metadata": {},
   "outputs": [
    {
     "name": "stdout",
     "output_type": "stream",
     "text": [
      "Não foi dessa vez\n"
     ]
    }
   ],
   "source": [
    "import random # Importando a biblioteca random\n",
    "# Define o número secreto aleatoriamente\n",
    "sorteado = random.randint(1,10)\n",
    "\n",
    "# Solicitando o número para o usuário inserir e o convertendo em inteiro\n",
    "chute = int(input('Digite um número entre 1 e 10: '))\n",
    "\n",
    "if chute == sorteado:\n",
    "    print('Parabéns você acertou o número sorteado')\n",
    "else:\n",
    "    print('Não foi dessa vez')\n"
   ]
  },
  {
   "cell_type": "code",
   "execution_count": 5,
   "metadata": {},
   "outputs": [
    {
     "name": "stdout",
     "output_type": "stream",
     "text": [
      "Você não está elegível para votar\n"
     ]
    }
   ],
   "source": [
    "idade = int(input('Informe sua idade: '))\n",
    "\n",
    "if idade >= 18:\n",
    "    print('Você está elegível para votar')\n",
    "else:\n",
    "    print('Você não está elegível para votar')"
   ]
  },
  {
   "cell_type": "code",
   "execution_count": 159,
   "metadata": {},
   "outputs": [
    {
     "name": "stdout",
     "output_type": "stream",
     "text": [
      "Números:\n",
      "32\n",
      "34\n",
      "32\n",
      "49\n",
      "14\n",
      "29\n",
      "Trevos:\n",
      "3\n",
      "6\n"
     ]
    }
   ],
   "source": [
    "# Números aleatoriamente para jogar na loteria\n",
    "import random\n",
    "numeros = list(range(1,51))\n",
    "trevos = list(range(1,7))\n",
    "print('Números:')\n",
    "for numero in range(0,6):\n",
    "    print(random.choice(numeros))\n",
    "print('Trevos:')\n",
    "for i in range(0,2):\n",
    "    trevo = random.choice(trevos)\n",
    "    ran = trevo\n",
    "    if trevo == ran:\n",
    "        trevo = random.choice(trevos)\n",
    "        ran = trevo\n",
    "        print(trevo)"
   ]
  },
  {
   "cell_type": "code",
   "execution_count": 3,
   "metadata": {},
   "outputs": [
    {
     "name": "stdout",
     "output_type": "stream",
     "text": [
      "50 é maior que21 E 200 é maior que 50?\n",
      "Sim, As duas condições são verdadeiras\n"
     ]
    }
   ],
   "source": [
    "# and - e as duas condiçõe terão de ser verdadeiras\n",
    "n1 = 50\n",
    "n2 = 21\n",
    "n3 = 200\n",
    "if n1 > n2 and n3> n1:\n",
    "    print(f'{n1} é maior que{n2} E {n3} é maior que {n1}?')\n",
    "    print('Sim, As duas condições são verdadeiras')"
   ]
  },
  {
   "cell_type": "code",
   "execution_count": 15,
   "metadata": {},
   "outputs": [
    {
     "name": "stdout",
     "output_type": "stream",
     "text": [
      "Insuficiente\n"
     ]
    }
   ],
   "source": [
    "# Classificação de nota\n",
    "\"\"\"\n",
    "Nese exercício, seu objetivo é executar um programa que classifica as notas de um\n",
    "estudante em diferentes categorias\n",
    "Execute o programa.\n",
    "Insira a nota do estudante quando solicitado (entre 0 e 100)\n",
    "O programa irá informa a classificação da nota de acordo com os seguintes critérios:\n",
    "Execelente:90-100\n",
    "Bom:70-89\n",
    "Satisfatório:50-69\n",
    "Insuficiente: 0-49\n",
    "\"\"\"\n",
    "nota = float(input('Informe a nota do estudante de 1 a 100:'))\n",
    "classfication = ''\n",
    "if nota < 50 :\n",
    "    classfication = 'Insuficiente'\n",
    "elif nota < 70 :\n",
    "    classfication = 'Satisfatório'\n",
    "elif nota < 90 :\n",
    "    classfication = 'Bom'\n",
    "elif nota <= 100:\n",
    "    classfication = 'Excelente'\n",
    "else :\n",
    "    print('Entrada inválida')\n",
    "\n",
    "print(classfication)"
   ]
  },
  {
   "cell_type": "code",
   "execution_count": 34,
   "metadata": {},
   "outputs": [
    {
     "name": "stdout",
     "output_type": "stream",
     "text": [
      "De acordo com a nossa campanha você ganhou 10% de desconto, equivale a R$: 100.00\n",
      "Valor final da compra: 900.0\n"
     ]
    }
   ],
   "source": [
    "\"\"\"\n",
    "Calculadora de Descontos\n",
    "Você é um cliente em uma loja que esta tendo um promoção especial. Dependendo do \n",
    "valor da sua compra, você pode receber um desconto!\n",
    "Execute o programa.\n",
    "\n",
    "Insira o valor da sua compa quando solicitado.\n",
    "O programa ira calcular e informar o valor do desconto aplicado e o valor final\n",
    "com o desconto\n",
    "\n",
    "Os descontos são aplicados da seguinte forma:\n",
    "Compras acima de R$1000 recebem 20% de desconto.\n",
    "Compras acima de R$500 a R1000 recebem 10% de desconto\n",
    "Compras abaixo de R$500 não recebem desconto\n",
    "\"\"\"\n",
    "valor_compra = float(input('Informe o valor da sua compra: '))\n",
    "porcentagem = 0\n",
    "if valor_compra > 1000 :\n",
    "    porcentagem = 20/100\n",
    "elif valor_compra >500 and valor_compra <= 1000 :\n",
    "    porcentagem = 10/100\n",
    "else :\n",
    "    print(f'Você não recebeu desconto precisa adicionar mais R${(500.01- valor_compra):.2f}')\n",
    "desconto = valor_compra * porcentagem\n",
    "\n",
    "print(f'De acordo com a nossa campanha você ganhou {porcentagem*100:.0f}% de desconto, equivale a R$: {desconto:.2f}')\n",
    "print(f'Valor final da compra: {valor_compra - desconto}')"
   ]
  },
  {
   "cell_type": "code",
   "execution_count": 36,
   "metadata": {},
   "outputs": [
    {
     "name": "stdout",
     "output_type": "stream",
     "text": [
      " O 19 é maior que 150 OU 19 é maior que 18\n"
     ]
    }
   ],
   "source": [
    "# Or  - Pelo menos uma condição terá de ser verdadeira\n",
    "\n",
    "num1 = 19\n",
    "num2 = 150\n",
    "num3 = 18\n",
    "\n",
    "if num1 > num2 or num1 > num3:\n",
    "    print(f' O {num1} é maior que {num2} OU {num1} é maior que {num3}')"
   ]
  }
 ],
 "metadata": {
  "kernelspec": {
   "display_name": "Python 3",
   "language": "python",
   "name": "python3"
  },
  "language_info": {
   "codemirror_mode": {
    "name": "ipython",
    "version": 3
   },
   "file_extension": ".py",
   "mimetype": "text/x-python",
   "name": "python",
   "nbconvert_exporter": "python",
   "pygments_lexer": "ipython3",
   "version": "3.11.4"
  }
 },
 "nbformat": 4,
 "nbformat_minor": 2
}
