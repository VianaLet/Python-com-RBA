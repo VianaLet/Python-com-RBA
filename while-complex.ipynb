{
 "cells": [
  {
   "cell_type": "markdown",
   "metadata": {},
   "source": [
    "# While usando um Condição Complexa"
   ]
  },
  {
   "cell_type": "code",
   "execution_count": 2,
   "metadata": {},
   "outputs": [
    {
     "name": "stdout",
     "output_type": "stream",
     "text": [
      "x:5, y: 15\n",
      "x:6, y: 14\n",
      "x:7, y: 13\n",
      "x:8, y: 12\n",
      "x:9, y: 11\n",
      "Loop concluído\n",
      "Valores finais:\n",
      "x: 10\n",
      "y:10\n"
     ]
    }
   ],
   "source": [
    "x, y = 5, 15\n",
    "\n",
    "# Loop continuará enquanto ambas as condições forem verdadeiras: x < 10 e y > 10\n",
    "while x < 10 and y > 10:\n",
    "    print(f'x:{x}, y: {y}')\n",
    "\n",
    "    x += 1  # x = x + 1\n",
    "    y -= 1  # y = y - 1\n",
    "print('Loop concluído')\n",
    "\n",
    "print(f'Valores finais:'\n",
    "    f'\\nx: {x}'\n",
    "    f'\\ny: {y}')\n",
    "\"\"\"\n",
    "A condição complexa é usada para controlar o loop. Ambas as partes da condição devem\n",
    "ser verdadeiras para que o loop continue. Se qualquer uma das partes se tornar falsa\n",
    ", o loop será interrompido\n",
    "\"\"\""
   ]
  },
  {
   "cell_type": "code",
   "execution_count": null,
   "metadata": {},
   "outputs": [],
   "source": [
    "# While Usando condição COmplexa\n",
    "numero_secreto1 = 7\n",
    "numero_secreto2 = 3\n",
    "tentativas = 5\n",
    "\n",
    "advinhou1 = False\n",
    "advinhou2 = False\n",
    "\n",
    "# O loop continuará enquantos as duas condições forem verdadeiras\n",
    "# tentativas > 0 e advinhou1 ou advinhou2 diferente de True\n",
    "while tentativas > 0 and (not advinhou1 == True or not advinhou2 == True):\n",
    "# while tentativas > 0 and (advinhou1 != True or advinhou2 != True:)\n",
    "    print(f'Tentativas restantes: {tentativas}')\n",
    "    palpite1 = int(input('Adivinhe o primeiro número secreto (1-10):'))\n",
    "    palpite2 = int(input('Adivinhe o segundo número secreto (1-10):'))\n",
    "\n",
    "    if palpite1 == numero_secreto1:\n",
    "        print('Você adivinhou o primeiro número!')\n",
    "        advinhou1 = True\n",
    "    if palpite2 == numero_secreto2:\n",
    "        print('Você adivinhou o segundo número!')\n",
    "        advinhou2 = True\n",
    "    if not advinhou1 or not advinhou2:\n",
    "        print('Tente novamente')\n",
    "        tentativas -= 1\n",
    "if advinhou1 == True and advinhou2 == True:\n",
    "    print('Párabens! Você advinhou ambos os números!')\n",
    "\n",
    "else:\n",
    "    print(f'Você não conseguiu advinhar os npumeros. Eles eram {numero_secreto1} e {numero_secreto2}')"
   ]
  }
 ],
 "metadata": {
  "kernelspec": {
   "display_name": "Python 3",
   "language": "python",
   "name": "python3"
  },
  "language_info": {
   "codemirror_mode": {
    "name": "ipython",
    "version": 3
   },
   "file_extension": ".py",
   "mimetype": "text/x-python",
   "name": "python",
   "nbconvert_exporter": "python",
   "pygments_lexer": "ipython3",
   "version": "3.11.4"
  }
 },
 "nbformat": 4,
 "nbformat_minor": 2
}
