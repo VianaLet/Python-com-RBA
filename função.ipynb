{
 "cells": [
  {
   "cell_type": "code",
   "execution_count": 2,
   "metadata": {},
   "outputs": [
    {
     "name": "stdout",
     "output_type": "stream",
     "text": [
      "5\n",
      "17\n"
     ]
    }
   ],
   "source": [
    "# Função soma\n",
    "\"\"\"\n",
    "Função é um bloco de código que realiza uma tarefa espécifica e pode ser executado \n",
    "várias vezes em diferentes partes do programa. As funções ajudam a organizar e \n",
    "modularizar o código, tornando-o mais legível, reutilizável e fácil de manter.\n",
    "\"\"\"\n",
    "def soma(a, b):\n",
    "    return a + b\n",
    "\n",
    "resultado = soma(2, 3)\n",
    "print(resultado)\n",
    "resultado = soma(8, 9)\n",
    "print(resultado)"
   ]
  },
  {
   "cell_type": "code",
   "execution_count": 3,
   "metadata": {},
   "outputs": [
    {
     "name": "stdout",
     "output_type": "stream",
     "text": [
      "A soma de 5 e 4 é = 9\n"
     ]
    }
   ],
   "source": [
    "def soma(a, b):\n",
    "    return a + b\n",
    "\n",
    "n1 = float(input('Digite o primeiro número:'))\n",
    "n2 = float(input('Digite o segundo número:'))\n",
    "\n",
    "resultado = soma(n1,n2)\n",
    "print(f'A soma de {n1} e {n2} é = {resultado}')"
   ]
  },
  {
   "cell_type": "code",
   "execution_count": 4,
   "metadata": {},
   "outputs": [
    {
     "name": "stdout",
     "output_type": "stream",
     "text": [
      "Olá, João! Bem vindo!\n"
     ]
    }
   ],
   "source": [
    "# Parâmetros e Argumentos em uma função\n",
    "def saudacao(nome):\n",
    "    # Função que exibe uma saudação personalizada\n",
    "    print(f'Olá, {nome}! Bem vindo!')\n",
    "\n",
    "nome_usuario = input(\"Como gostaria de ser chamado?\")\n",
    "saudacao(nome_usuario)"
   ]
  },
  {
   "cell_type": "code",
   "execution_count": 6,
   "metadata": {},
   "outputs": [
    {
     "name": "stdout",
     "output_type": "stream",
     "text": [
      "Nome: João\n",
      "Idade: 25\n",
      "Cidade: São Paulo\n",
      "Nome: João\n",
      "Idade: 25\n",
      "Cidade: Desconhecida\n"
     ]
    }
   ],
   "source": [
    "# Argumentos Default e Non-default\n",
    "\"\"\"\n",
    "Em python, ao definir uma função, podemos atribuir valores padrão aos parâmetros \n",
    "da função. Esses valores padrão são chamados de 'argumentos defauls'(padrão) e \n",
    "permitem que vocÊ chame a função sem precisar fornecer valores para esses parâmetros\n",
    "\"\"\"\n",
    "def exibir_informacoes(nome, idade, cidade='Desconhecida'):\n",
    "    print(f'Nome: {nome}')\n",
    "    print(f'Idade: {idade}')\n",
    "    print(f'Cidade: {cidade}')\n",
    "\n",
    "exibir_informacoes('João', 25, 'São Paulo')\n",
    "\n",
    "# Aqui vai mostrar o valor padrão definido na função\n",
    "exibir_informacoes('João', 25)\n"
   ]
  }
 ],
 "metadata": {
  "kernelspec": {
   "display_name": "Python 3",
   "language": "python",
   "name": "python3"
  },
  "language_info": {
   "codemirror_mode": {
    "name": "ipython",
    "version": 3
   },
   "file_extension": ".py",
   "mimetype": "text/x-python",
   "name": "python",
   "nbconvert_exporter": "python",
   "pygments_lexer": "ipython3",
   "version": "3.11.4"
  }
 },
 "nbformat": 4,
 "nbformat_minor": 2
}
