{
 "cells": [
  {
   "cell_type": "code",
   "execution_count": 2,
   "metadata": {},
   "outputs": [
    {
     "name": "stdout",
     "output_type": "stream",
     "text": [
      "5\n",
      "17\n"
     ]
    }
   ],
   "source": [
    "# Função soma\n",
    "\"\"\"\n",
    "Função é um bloco de código que realiza uma tarefa espécifica e pode ser executado \n",
    "várias vezes em diferentes partes do programa. As funções ajudam a organizar e \n",
    "modularizar o código, tornando-o mais legível, reutilizável e fácil de manter.\n",
    "\"\"\"\n",
    "def soma(a, b):\n",
    "    return a + b\n",
    "\n",
    "resultado = soma(2, 3)\n",
    "print(resultado)\n",
    "resultado = soma(8, 9)\n",
    "print(resultado)"
   ]
  },
  {
   "cell_type": "code",
   "execution_count": 3,
   "metadata": {},
   "outputs": [
    {
     "name": "stdout",
     "output_type": "stream",
     "text": [
      "A soma de 5 e 4 é = 9\n"
     ]
    }
   ],
   "source": [
    "def soma(a, b):\n",
    "    return a + b\n",
    "\n",
    "n1 = float(input('Digite o primeiro número:'))\n",
    "n2 = float(input('Digite o segundo número:'))\n",
    "\n",
    "resultado = soma(n1,n2)\n",
    "print(f'A soma de {n1} e {n2} é = {resultado}')"
   ]
  },
  {
   "cell_type": "code",
   "execution_count": 4,
   "metadata": {},
   "outputs": [
    {
     "name": "stdout",
     "output_type": "stream",
     "text": [
      "Olá, João! Bem vindo!\n"
     ]
    }
   ],
   "source": [
    "# Parâmetros e Argumentos em uma função\n",
    "def saudacao(nome):\n",
    "    # Função que exibe uma saudação personalizada\n",
    "    print(f'Olá, {nome}! Bem vindo!')\n",
    "\n",
    "nome_usuario = input(\"Como gostaria de ser chamado?\")\n",
    "saudacao(nome_usuario)"
   ]
  },
  {
   "cell_type": "code",
   "execution_count": 6,
   "metadata": {},
   "outputs": [
    {
     "name": "stdout",
     "output_type": "stream",
     "text": [
      "Nome: João\n",
      "Idade: 25\n",
      "Cidade: São Paulo\n",
      "Nome: João\n",
      "Idade: 25\n",
      "Cidade: Desconhecida\n"
     ]
    }
   ],
   "source": [
    "# Argumentos Default e Non-default\n",
    "\"\"\"\n",
    "Em python, ao definir uma função, podemos atribuir valores padrão aos parâmetros \n",
    "da função. Esses valores padrão são chamados de 'argumentos defauls'(padrão) e \n",
    "permitem que vocÊ chame a função sem precisar fornecer valores para esses parâmetros\n",
    "\n",
    "Os argumentos non-default(não-padrão) são aqueles que não possuem um valor padrão \n",
    "atribuído na definição da função e, portanto, precisam ser fornecidos como argumentos \n",
    "quando a função é chamada\n",
    "\"\"\"\n",
    "# em cidade = 'desconhecida' eu estou estabelecendo uma valor padrão para o argumento \n",
    "def exibir_informacoes(nome, idade, cidade='Desconhecida'):\n",
    "    print(f'Nome: {nome}')\n",
    "    print(f'Idade: {idade}')\n",
    "    print(f'Cidade: {cidade}')\n",
    "# Argumentos sem valores default\n",
    "exibir_informacoes('João', 25, 'São Paulo')\n",
    "\n",
    "# Aqui vai mostrar o valor padrão definido na função\n",
    "exibir_informacoes('João', 25)\n"
   ]
  },
  {
   "cell_type": "code",
   "execution_count": null,
   "metadata": {},
   "outputs": [],
   "source": [
    "# Aqui são todos argumentos non-default\n",
    "def exibir_informacoes(nome, idade, cidade):\n",
    "    print(f'Nome: {nome}')\n",
    "    print(f'Idade: {idade}')\n",
    "    print(f'Cidade: {cidade}')"
   ]
  },
  {
   "cell_type": "code",
   "execution_count": 2,
   "metadata": {},
   "outputs": [
    {
     "name": "stdout",
     "output_type": "stream",
     "text": [
      "Nome: Allan\n",
      "Idade: 24\n",
      "Cidade: Desconhecida\n",
      "Nome: Letícia\n",
      "Idade: 25\n",
      "Cidade: Brasília\n"
     ]
    }
   ],
   "source": [
    "# Aqui são todos argumentos default\n",
    "def exibir_informacoes(nome='Allan', idade=24, cidade='Desconhecida'):\n",
    "    print(f'Nome: {nome}')\n",
    "    print(f'Idade: {idade}')\n",
    "    print(f'Cidade: {cidade}')\n",
    "# Argumentos com os valores padrões postos na definição da função logo acima\n",
    "exibir_informacoes()\n",
    "# Argumentos sem valores padrões\n",
    "exibir_informacoes('Letícia',25,'Brasília')"
   ]
  },
  {
   "cell_type": "code",
   "execution_count": 3,
   "metadata": {},
   "outputs": [
    {
     "name": "stdout",
     "output_type": "stream",
     "text": [
      "Olá, Letícia! Bem-vindo(a) ao nosso programa\n",
      "O resultado da soma é: 7\n"
     ]
    }
   ],
   "source": [
    "# Exemplo com print():\n",
    "def saudacao(nome):\n",
    "    \"\"\" Função que imprime uma saudação personalizada.\"\"\"\n",
    "    print(f'Olá, {nome}! Bem-vindo(a) ao nosso programa')\n",
    "saudacao('Letícia')\n",
    "\n",
    "# Exemplo com return:\n",
    "def soma(a,b):\n",
    "    \"\"\" Função que retorna a soma de dois números\"\"\"\n",
    "    return a + b\n",
    "resultado = soma(3,4)\n",
    "print(f'O resultado da soma é: {resultado}')"
   ]
  },
  {
   "cell_type": "code",
   "execution_count": 5,
   "metadata": {},
   "outputs": [
    {
     "name": "stdout",
     "output_type": "stream",
     "text": [
      "29\n"
     ]
    }
   ],
   "source": [
    "# Vários argumentos *args com números\n",
    "\"\"\"\n",
    "Parâmetro especial *args, que permite receber um número variável de argumentos\n",
    "númericos. Dentro da função, os argumentos são tratados como uma tupla\n",
    "\"\"\"\n",
    "def soma(*args):\n",
    "    # Função que retorna a soma de vários números\n",
    "    resultado = sum(args)\n",
    "    return resultado\n",
    "total = soma(2,4,5,8,10)\n",
    "print(total)\n",
    "\"\"\" Dessa forma, a função soma() é capaz de lidar com qualquer quantidade de \n",
    "argumentos númericos e retona a soma total desses números\n",
    "\"\"\""
   ]
  },
  {
   "cell_type": "code",
   "execution_count": 30,
   "metadata": {},
   "outputs": [
    {
     "name": "stdout",
     "output_type": "stream",
     "text": [
      "A estatísticas desse conjunto de números:\n",
      "Maior número: 20\n",
      "Menor número: 10\n",
      "A média: 15.0\n"
     ]
    }
   ],
   "source": [
    "\"\"\"\n",
    "Exercício: Função para calcular Estatísticas de Números\n",
    "Instruções:\n",
    "    1. Defina uma função chamada estatisticas que aceite um número variável de \n",
    "    argumentos númericos.\n",
    "    2. A função deve retornar a média, o maio e o menor número do conjunto\n",
    "    3. Peça ao usuário para inserir uma sequência de números, separados por espaços\n",
    "    4. Converta essa entrada do usuário em uma lista de números\n",
    "    5. Use a função estatisticas para calcular a média, o maio e o menor número da\n",
    "    lista\n",
    "    6. Mostre ao usuário a média, o maior e o menor número\n",
    "\"\"\"\n",
    "def estatisticas(*args):\n",
    "    maior = max(args)\n",
    "    menor = min(args)\n",
    "    media =  sum(args)/len(args)\n",
    "    print(f'A estatísticas desse conjunto de números:')\n",
    "    print(f'Maior número: {maior}')\n",
    "    print(f'Menor número: {menor}')\n",
    "    print(f'A média: {media}')\n",
    "\n",
    "numeros = input('Digite um conjunto de números, separados por espaço:')\n",
    "numeros = numeros.split( )\n",
    "lista_numeros = []\n",
    "for item in numeros:\n",
    "        lista_numeros.append(int(item))\n",
    "        \n",
    "\n",
    "estatisticas(*lista_numeros)\n",
    "#"
   ]
  },
  {
   "cell_type": "code",
   "execution_count": 25,
   "metadata": {},
   "outputs": [
    {
     "name": "stdout",
     "output_type": "stream",
     "text": [
      "[10.0, 2.0, 5.0, 8.0, 60.0]\n",
      "Média: 17.0\n",
      "Maior Número:60.0\n",
      "Menor Número:2.0\n"
     ]
    }
   ],
   "source": [
    "# Resolução do exercício \n",
    "def estatisticas(*args):\n",
    "    return sum(args)/len(args), max(args), min(args)\n",
    "# Função map(float, ...) é usada para aplicar a função float() a cada elemento \n",
    "# da lista de strings\n",
    "# List(...): O resultado da função map(floa, ...) é convertido em uma lista de números\n",
    "#de ponto flutuante. Isso é feito para garantir que todos os números da sequência\n",
    "#digitada sejam tratados como valores numéricos de ponto flutuante \n",
    "\n",
    "numeros = list(map(float, input('Digite uma sequência de números separados por espaços').split(' ')))\n",
    "# O operador * serve para desempacotar os números lista numeros\n",
    "media, maior, menor = estatisticas(*numeros)\n",
    "print(numeros)\n",
    "print(f'Média: {media}\\nMaior Número:{maior}\\nMenor Número:{menor}')"
   ]
  }
 ],
 "metadata": {
  "kernelspec": {
   "display_name": "Python 3",
   "language": "python",
   "name": "python3"
  },
  "language_info": {
   "codemirror_mode": {
    "name": "ipython",
    "version": 3
   },
   "file_extension": ".py",
   "mimetype": "text/x-python",
   "name": "python",
   "nbconvert_exporter": "python",
   "pygments_lexer": "ipython3",
   "version": "3.11.4"
  }
 },
 "nbformat": 4,
 "nbformat_minor": 2
}
