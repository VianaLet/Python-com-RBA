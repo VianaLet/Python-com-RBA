{
 "cells": [
  {
   "cell_type": "markdown",
   "metadata": {},
   "source": [
    "# Formatando Strings"
   ]
  },
  {
   "cell_type": "code",
   "execution_count": 2,
   "metadata": {},
   "outputs": [
    {
     "name": "stdout",
     "output_type": "stream",
     "text": [
      "P\n",
      "y\n",
      "t\n",
      "h\n",
      "o\n"
     ]
    }
   ],
   "source": [
    "# Imprimindo a posição das letras\n",
    "posicaoLetra = 'Python'\n",
    "print(posicaoLetra[0])\n",
    "print(posicaoLetra[1])\n",
    "print(posicaoLetra[2])\n",
    "print(posicaoLetra[3])\n",
    "print(posicaoLetra[4])"
   ]
  },
  {
   "cell_type": "code",
   "execution_count": 7,
   "metadata": {},
   "outputs": [
    {
     "name": "stdout",
     "output_type": "stream",
     "text": [
      " mun\n",
      "Olá, \n",
      "mundo!\n"
     ]
    }
   ],
   "source": [
    "# Slice\n",
    "frase = 'Olá, mundo!'\n",
    "\n",
    "\n",
    "# Obtendo uma parte da string usando slice \n",
    "\"\"\"\n",
    "O[0]   m[5]\n",
    "l[1]   u[6]\n",
    "à[2]   n[7]\n",
    ",[3]   d[8]\n",
    " [4]   o[9]\n",
    "\"\"\"\n",
    "parte = frase[4:8] # a posição de 4 à 7\n",
    "print(parte)# Saída ' mun'\n",
    "# Obtendo os primeiros 5 caracteres da string\n",
    "primeiros = frase[:5]  # da posição 0 à 4\n",
    "print(primeiros) # Saída 'Olá, '\n",
    "\n",
    "# Obtendo os últimos 6 caracteres da string\n",
    "ultimos = frase[-6:] # Em python índices negativos contam a partir do final da string\n",
    "print(ultimos)"
   ]
  },
  {
   "cell_type": "code",
   "execution_count": 8,
   "metadata": {},
   "outputs": [
    {
     "name": "stdout",
     "output_type": "stream",
     "text": [
      "True\n"
     ]
    }
   ],
   "source": [
    "# Verificar se a palavra python está na frase\n",
    "frase = 'O módulo de python é muito legal'\n",
    "print('python' in frase) \n",
    "\n",
    "\"\"\"\n",
    "O operador in é usado em Python para verifica a presença de um valor dentro de uma \n",
    "sequência (como uma string, lista, ou tupla). Neste caso, está sendo usado para\n",
    "verificar se um substring está contida em uma string maior\n",
    "\"\"\""
   ]
  },
  {
   "cell_type": "code",
   "execution_count": 10,
   "metadata": {},
   "outputs": [
    {
     "name": "stdout",
     "output_type": "stream",
     "text": [
      "Sim, a palavra python está presente na frase\n"
     ]
    }
   ],
   "source": [
    "frase = 'O módulo de python é muito legal'\n",
    "if \"python\" in frase:\n",
    "    print('Sim, a palavra python está presente na frase')"
   ]
  },
  {
   "cell_type": "code",
   "execution_count": 11,
   "metadata": {},
   "outputs": [
    {
     "name": "stdout",
     "output_type": "stream",
     "text": [
      "                  O módulo de python é muito legal      \n",
      "O módulo de python é muito legal\n"
     ]
    }
   ],
   "source": [
    "# strip - Usamo para remover espaços em branco do início e do final da frase\n",
    "frase = '                  O módulo de python é muito legal      '\n",
    "print(frase)\n",
    "print(frase.strip()) \n",
    "\"\"\" Nessa parte do código, a função strip() é chamada sem argumentos, e ela remove \n",
    "todos os espaços em branco no início e final da string armazenada na variável frase \"\"\"\n",
    "\n",
    "\n",
    "texto = '**********Olá!*********'\n",
    "print(texto)\n",
    "texto_strip = texto.strip('*')\n",
    "\"\"\"Nesta parte do código, a função strip() é chamada com o argumento \"*\" , o que \n",
    "significa que ela vai remover todas as ocorrências do caracter \"*\" no início e no\n",
    "final da string\"\"\"\n",
    "print(texto_strip)\n"
   ]
  },
  {
   "cell_type": "code",
   "execution_count": 13,
   "metadata": {},
   "outputs": [
    {
     "name": "stdout",
     "output_type": "stream",
     "text": [
      "['Olá,', 'como', 'vai', 'você?']\n"
     ]
    }
   ],
   "source": [
    "# Split- método para dividir um string em uma lista substrings com base \n",
    "# em um determinado separador - o sepadaro padrão é o \" \"\n",
    "\n",
    "frase = \"Olá, como vai você?\"\n",
    "palavras = frase.split()\n",
    "print(palavras)"
   ]
  },
  {
   "cell_type": "code",
   "execution_count": 14,
   "metadata": {},
   "outputs": [
    {
     "name": "stdout",
     "output_type": "stream",
     "text": [
      "Olá, como vai você?\n"
     ]
    }
   ],
   "source": [
    "# join - método oposto ao split, ele é utilizado para juntar uma lista de strings\n",
    "#em uma única string, usando um delimitador específico\n",
    "palavras = ['Olá,', 'como', 'vai', 'você?']\n",
    "frase = ' '.join(palavras) # Juntando as palavras com um espaço em branco entre elas\n",
    "print(frase)"
   ]
  },
  {
   "cell_type": "code",
   "execution_count": 4,
   "metadata": {},
   "outputs": [
    {
     "name": "stdout",
     "output_type": "stream",
     "text": [
      "Ola, meu nome é Alice. Tenho 25 anos e minha altura é 1.65 metros\n"
     ]
    }
   ],
   "source": [
    "nome = 'Alice'\n",
    "idade = 25\n",
    "altura = 1.65\n",
    "mensagem = f'Ola, meu nome é {nome}. Tenho {idade} anos e minha altura é {altura:.2f} metros'\n",
    "print(mensagem)"
   ]
  },
  {
   "cell_type": "code",
   "execution_count": 5,
   "metadata": {},
   "outputs": [
    {
     "name": "stdout",
     "output_type": "stream",
     "text": [
      "OLÁ, MUNDO\n"
     ]
    }
   ],
   "source": [
    "# Método upper() - Converte a string para maiúsculas\n",
    "texto = 'Olá, Mundo'\n",
    "texto_upper = texto.upper()\n",
    "print(texto_upper)"
   ]
  },
  {
   "cell_type": "code",
   "execution_count": 6,
   "metadata": {},
   "outputs": [
    {
     "name": "stdout",
     "output_type": "stream",
     "text": [
      "olá, mundo\n"
     ]
    }
   ],
   "source": [
    "# Método lower() - Converte a string para minúsculas\n",
    "texto_lower = texto_upper.lower()\n",
    "print(texto_lower)"
   ]
  },
  {
   "cell_type": "code",
   "execution_count": 7,
   "metadata": {},
   "outputs": [
    {
     "name": "stdout",
     "output_type": "stream",
     "text": [
      "Olá, mundo\n"
     ]
    }
   ],
   "source": [
    "# Método capitalize() - Capitaliza a primeira letra da string. a letra 'o' é \n",
    "# convertida em maiúscula, resultando em 'Olá, mundo'. As demais letras permanecem minúsculas\n",
    "texto_capitalize = texto_lower.capitalize()\n",
    "print(texto_capitalize)"
   ]
  },
  {
   "cell_type": "code",
   "execution_count": 8,
   "metadata": {},
   "outputs": [
    {
     "name": "stdout",
     "output_type": "stream",
     "text": [
      "1\n"
     ]
    }
   ],
   "source": [
    "# Método count() - Conta o número de ocorrências de um determinado caractere \n",
    "# ou substring\n",
    "ocorrencias = texto.count('o')\n",
    "print(ocorrencias)"
   ]
  },
  {
   "cell_type": "code",
   "execution_count": 10,
   "metadata": {},
   "outputs": [
    {
     "name": "stdout",
     "output_type": "stream",
     "text": [
      "Olá, amigo\n"
     ]
    }
   ],
   "source": [
    "# Método replace(valor_antigo, valor_novo) - Substitui todas as ocorrências de \n",
    "# uma subtring por outra \n",
    "texto_substituido = texto.replace('Mundo','amigo')\n",
    "print(texto_substituido)"
   ]
  },
  {
   "cell_type": "code",
   "execution_count": 18,
   "metadata": {},
   "outputs": [
    {
     "name": "stdout",
     "output_type": "stream",
     "text": [
      "Maria Silva\n",
      "Bom dia! meu nome é Maria Silva e tenho 30 anos de idade\n"
     ]
    }
   ],
   "source": [
    "# Exercícios de Manipulação de String em Python\n",
    "\n",
    "# 1. Crie uma variável chamada 'nome' e atribua a ela o valor 'Maria'\n",
    "nome = 'Maria '\n",
    "# 2. Crie uma variável chamada 'sobrenome' e a tribua a ela o valor 'Slva'\n",
    "sobrenome = 'Silva'\n",
    "# 3. Crie uma variável chamada 'idade' e atribua a ela o valor 30\n",
    "idade = 30\n",
    "# 4. Concate as variáveis 'nome' e 'sobrenome' em uma variável chamada 'nome_completo'\n",
    "nome_completo = nome + sobrenome\n",
    "# 5. Imprima na tela o valor da variável 'nome_completo'\n",
    "print(nome_completo)\n",
    "# 6. Cria uma variável chamada 'mensagem' que utiliza a função format para criar uma \n",
    "# frase personalizada com as variáveis 'nome_completo' e 'idade'\n",
    "mensagem = f'Bom dia! meu nome é {nome_completo} e tenho {idade} anos de idade'\n",
    "# 7. Imprima na tela o valo da variável 'mensagem'\n",
    "print(mensagem)"
   ]
  },
  {
   "cell_type": "code",
   "execution_count": 32,
   "metadata": {},
   "outputs": [
    {
     "name": "stdout",
     "output_type": "stream",
     "text": [
      "Tamanho da frase: 57 caracteres\n",
      "Primeira palavra da frase: Python\n",
      "Primeira palavra da frase: Python\n",
      "PYTHON É UMA LINGUAGEM DE PROGRAMAÇÃO PODEROSA E VERSÁTIL \n",
      " Python é uma linguagem de programação incrível e versátil\n"
     ]
    }
   ],
   "source": [
    "# 1. Crie uma variável chamada 'frase' e atribua a ela a seguinte frase: 'Python é \n",
    "# uma linguagem de programação poderosa e versátil'\n",
    "frase = 'Python é uma linguagem de programação poderosa e versátil'\n",
    "# 2. Imprima na tela o tamanho da frase, ou seja, a quantidade de caracteres \n",
    "# presentes nela\n",
    "print(f'Tamanho da frase: {len(frase)} caracteres')\n",
    "# 3. Cria uma variável chamada 'palavra' e atribua a ela a primeira palavra da frase\n",
    "palavra = frase.split()\n",
    "print(f'Primeira palavra da frase: {palavra[0]}')\n",
    "#ou podemos fazer dessa forma também que eu achei bem melhor\n",
    "palavra1 = frase.split()[0]\n",
    "print(f'Primeira palavra da frase: {palavra1}')\n",
    "# 4. Converta a variável 'frase' para letras maiúsculas e atribua o resultado a uma \n",
    "# nova variável chamada 'frase_maiuscula\n",
    "frase_maiuscula = frase.upper()\n",
    "# 5. Substitua a palavra 'poderosa' por 'incrível' na variável 'frase' e atribua\n",
    "# o resultado a uma nova variável chamada 'frase_substituida'\n",
    "frase_substituida = frase.replace('poderosa', 'incrível')\n",
    "print(frase_maiuscula,\"\\n\",frase_substituida)\n"
   ]
  }
 ],
 "metadata": {
  "kernelspec": {
   "display_name": "Python 3",
   "language": "python",
   "name": "python3"
  },
  "language_info": {
   "codemirror_mode": {
    "name": "ipython",
    "version": 3
   },
   "file_extension": ".py",
   "mimetype": "text/x-python",
   "name": "python",
   "nbconvert_exporter": "python",
   "pygments_lexer": "ipython3",
   "version": "3.11.4"
  }
 },
 "nbformat": 4,
 "nbformat_minor": 2
}
