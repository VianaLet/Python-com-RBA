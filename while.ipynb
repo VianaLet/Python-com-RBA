{
 "cells": [
  {
   "cell_type": "markdown",
   "metadata": {},
   "source": [
    "\n",
    "# While"
   ]
  },
  {
   "cell_type": "code",
   "execution_count": 1,
   "metadata": {},
   "outputs": [
    {
     "name": "stdout",
     "output_type": "stream",
     "text": [
      "1\n",
      "2\n",
      "3\n",
      "4\n"
     ]
    }
   ],
   "source": [
    "# while loops\n",
    "numero =1\n",
    "while numero < 5:\n",
    "    print(numero)\n",
    "    numero+= 1"
   ]
  },
  {
   "cell_type": "code",
   "execution_count": 32,
   "metadata": {},
   "outputs": [
    {
     "name": "stdout",
     "output_type": "stream",
     "text": [
      "1\n",
      "2\n",
      "3\n",
      "4\n",
      "5\n"
     ]
    }
   ],
   "source": [
    "contador = 1\n",
    "\n",
    "while contador < 100:\n",
    "    print(contador)\n",
    "\n",
    "    if contador == 5:\n",
    "        # se o número for 5, sai do loop imediatamente\n",
    "        break # Essa função interrompe o loop\n",
    "    contador += 1"
   ]
  },
  {
   "cell_type": "code",
   "execution_count": 33,
   "metadata": {},
   "outputs": [
    {
     "name": "stdout",
     "output_type": "stream",
     "text": [
      "Linha:0 -Coluna:0\n",
      "Linha:0 -Coluna:1\n",
      "Linha:0 -Coluna:2\n",
      "Linha:1 -Coluna:0\n",
      "Linha:1 -Coluna:1\n",
      "Linha:1 -Coluna:2\n",
      "Linha:2 -Coluna:0\n",
      "Linha:2 -Coluna:1\n",
      "Linha:2 -Coluna:2\n"
     ]
    }
   ],
   "source": [
    "linha = 0\n",
    "\n",
    "# Continua o loop externo enquanto 'linha' for menor que 3\n",
    "while linha < 3:\n",
    "    # Inicializa a variável coluna com valor 0 para cada nova iteração da linha\n",
    "    coluna = 0 \n",
    "    # Continua o loop interno enquanto 'coluna' for menor que 3\n",
    "    while coluna <3:\n",
    "        # Imprime os valores atuais de 'linha' e 'coluna'\n",
    "        print(f'Linha:{linha} -Coluna:{coluna}')\n",
    "        # Incrementa em 1 para próxima iteração do loop\n",
    "        coluna += 1\n",
    "    linha += 1\n",
    "# Tentar uma matriz\n"
   ]
  },
  {
   "cell_type": "code",
   "execution_count": null,
   "metadata": {},
   "outputs": [],
   "source": [
    "n_inicial =1\n",
    "n_final = int(input('Digite um número maior que 1:'))\n",
    "while n_inicial <= n_final:\n",
    "    print(n_inicial)\n",
    "    n_inicial +=1"
   ]
  },
  {
   "cell_type": "code",
   "execution_count": 35,
   "metadata": {},
   "outputs": [
    {
     "name": "stdout",
     "output_type": "stream",
     "text": [
      "Números pares entre 1 e 10: \n",
      "2 4 6 8 10 "
     ]
    }
   ],
   "source": [
    "numero = 1\n",
    "max = int(input('Digite um número maior que 1:'))\n",
    "print(f'Números pares entre 1 e {max}: ')\n",
    "while numero <= max:\n",
    "\n",
    "    if numero % 2 == 0:\n",
    "        print(numero, end=' ') # Essa função end faça que não pule linha\n",
    "    numero += 1"
   ]
  },
  {
   "cell_type": "code",
   "execution_count": 41,
   "metadata": {},
   "outputs": [
    {
     "name": "stdout",
     "output_type": "stream",
     "text": [
      "Senha incorreta, por favor tente novamente\n",
      "Senha incorreta, por favor tente novamente\n",
      "Bom vê-lo novamente\n"
     ]
    }
   ],
   "source": [
    "\"\"\"\n",
    "Exercício:\n",
    "Crie um algotimo que solicite ao usuário uma senha, \n",
    "e só sai do looping do while quanfo for digitada a senha corretamente\n",
    "\"\"\"\n",
    "password = 'Aa2242'\n",
    "pass_input= input(\"Digite sua senha:\")\n",
    "while password != pass_input:\n",
    "    print('Senha incorreta, por favor tente novamente')\n",
    "    pass_input= input(\"Digite sua senha:\")\n",
    "print('Bom vê-lo novamente')"
   ]
  },
  {
   "cell_type": "code",
   "execution_count": 42,
   "metadata": {},
   "outputs": [],
   "source": [
    "\"\"\"\n",
    "Exercício\n",
    "\n",
    "\"\"\"\n",
    "while True:\n",
    "    usuario = input('Digite \"sair\" para encerrar: ')\n",
    "    if usuario == 'sair':\n",
    "        break"
   ]
  },
  {
   "cell_type": "code",
   "execution_count": 44,
   "metadata": {},
   "outputs": [
    {
     "name": "stdout",
     "output_type": "stream",
     "text": [
      "41\n",
      "O número secreto é maior que 10. Tente novamente\n",
      "O número secreto é menor que 50. Tente novamente\n",
      "O número secreto é menor que 45. Tente novamente\n",
      "O número secreto é maior que 40. Tente novamente\n",
      "Parabens você acertou o número secreto41 em 5 tentativas\n"
     ]
    }
   ],
   "source": [
    "import random\n",
    "numero_secreto = random.randint(1,100)\n",
    "tentativas = 0\n",
    "print(numero_secreto)\n",
    "while True:\n",
    "    palpite = int(input('Digite o seu palpite:'))\n",
    "    tentativas += 1\n",
    "    if palpite < numero_secreto:\n",
    "        print(f'O número secreto é maior que {palpite}. Tente novamente')\n",
    "    elif palpite > numero_secreto:\n",
    "        print(f'O número secreto é menor que {palpite}. Tente novamente')\n",
    "    elif palpite == numero_secreto:\n",
    "        print(f'Parabens você acertou o número secreto{numero_secreto} em {tentativas} tentativas')\n",
    "        break\n",
    "    else:\n",
    "        print('Entrada de dados inválida')"
   ]
  },
  {
   "cell_type": "code",
   "execution_count": 3,
   "metadata": {},
   "outputs": [
    {
     "name": "stdout",
     "output_type": "stream",
     "text": [
      "Digite 0 para finalizar o programa:\n",
      "6\n"
     ]
    }
   ],
   "source": [
    "\"\"\"\n",
    "Exercício:\n",
    "Crie um algotimo que leia n números inteiros digitados pelo usuário e só pare\n",
    "quando o usuário digite 0\n",
    "\"\"\"\n",
    "soma = 0\n",
    "print('Digite 0 para finalizar o programa:')\n",
    "while True:\n",
    "    numero = int(input(\"Informe qualquer número ou 0 para sair: \"))\n",
    "    soma = soma+numero # ou soma += numero\n",
    "    if numero == 0:\n",
    "        break\n",
    "print(soma)"
   ]
  },
  {
   "cell_type": "code",
   "execution_count": 5,
   "metadata": {},
   "outputs": [
    {
     "name": "stdout",
     "output_type": "stream",
     "text": [
      "80\n"
     ]
    }
   ],
   "source": [
    "\"\"\"\n",
    "Exercício:\n",
    "Crie um algoritmo que leia números inteiros positivos digitados pelo usuário\n",
    "até que o usuário digite um número menor que 0. No final imprima o maior número\n",
    "digitado\n",
    "\"\"\"\n",
    "max = 0\n",
    "numero = int(input('Digite número menor que 0 para sair, caso contrário informe qualquer número:'))\n",
    "while numero >= 0:\n",
    "    if numero > max:\n",
    "        max = numero\n",
    "        \n",
    "    numero = int(input('Digite número menor que 0 para sair, caso contrário informe qualquer número:'))\n",
    "    \n",
    "print(max)\n"
   ]
  },
  {
   "cell_type": "code",
   "execution_count": 7,
   "metadata": {},
   "outputs": [
    {
     "name": "stdout",
     "output_type": "stream",
     "text": [
      "[6, 17, 11, 38, 8, 16]\n"
     ]
    }
   ],
   "source": [
    "import random\n",
    "lista = [6, 32, 17, 41, 11, 38, 8, 33, 24, 48, 16,]\n",
    "escolhido = [numero for numero in lista  if numero < random.choice(lista) ]\n",
    "print(escolhido)"
   ]
  },
  {
   "cell_type": "code",
   "execution_count": 40,
   "metadata": {},
   "outputs": [
    {
     "name": "stdout",
     "output_type": "stream",
     "text": [
      "[]\n"
     ]
    }
   ],
   "source": [
    "import random\n",
    "lista = [6, 32, 17, 41, 11, 38, 8, 33, 24, 48, 16,]\n",
    "escolhido = [ numero for numero in lista if random.choice(escolhido) ]\n",
    "print(escolhido)"
   ]
  }
 ],
 "metadata": {
  "kernelspec": {
   "display_name": "Python 3",
   "language": "python",
   "name": "python3"
  },
  "language_info": {
   "codemirror_mode": {
    "name": "ipython",
    "version": 3
   },
   "file_extension": ".py",
   "mimetype": "text/x-python",
   "name": "python",
   "nbconvert_exporter": "python",
   "pygments_lexer": "ipython3",
   "version": "3.11.4"
  }
 },
 "nbformat": 4,
 "nbformat_minor": 2
}
