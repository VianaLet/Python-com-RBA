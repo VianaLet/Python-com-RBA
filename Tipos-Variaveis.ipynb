{
 "cells": [
  {
   "cell_type": "code",
   "execution_count": 7,
   "metadata": {},
   "outputs": [
    {
     "name": "stdout",
     "output_type": "stream",
     "text": [
      "Inteiro: 42 <class 'int'>\n",
      "Flutuante: 42.0 <class 'float'>\n",
      "Complexo: (3+4j) <class 'complex'>\n",
      "Listas:[1, 2, 3] <class 'list'>\n",
      "Tupla: (1, 2, 3, 4, 5) <class 'tuple'>\n",
      "Conjunto: {1, 2, 3} <class 'set'>\n",
      "Dicionário:{'chave': 'Valor'} <class 'dict'>\n",
      "NoneType (None): None\n"
     ]
    }
   ],
   "source": [
    "# Principais tipos de variaveis\n",
    "\n",
    "inteiro = 42\n",
    "print('Inteiro:', inteiro, type(inteiro))\n",
    "\n",
    "flutuante = 42.0\n",
    "print('Flutuante:', flutuante, type(flutuante))\n",
    "\n",
    "complexo = 3 + 4j # Números complexos, que têm uma parte real e uma parte imaginária\n",
    "print('Complexo:', complexo, type(complexo))\n",
    "\n",
    "\n",
    "# Listas (list): Uma coleção ordenada e mutável\n",
    "lista = [1, 2, 3]\n",
    "print(f'Listas:{lista} {type(lista)}')\n",
    "\n",
    "# Tuplas(tuple): Uma coleção ordenada e imutável\n",
    "tupla = (1, 2, 3, 4, 5)\n",
    "print(f'Tupla: {tupla} {type(tupla)}')\n",
    "\n",
    "# Conjuntos (set): Uma coleção não ordenada de itens únicos\n",
    "Conjunto = {1, 2, 3, 3}\n",
    "print(f'Conjunto: {Conjunto} {type(Conjunto)}')\n",
    "\n",
    "# Dicionário (dict): Uma coleção não ordenada de pares chave-valor.\n",
    "dicionario = {\"chave\": \"Valor\"}\n",
    "print(f'Dicionário:{dicionario} {type(dicionario)}')\n",
    "\n",
    "# Booleanos (bool): Valores verdadeiro ou falso\n",
    "booleano = True\n",
    "\n",
    "#NoneType (None): Um tipo especial que representa a ausência de valor\n",
    "nenhum = None\n",
    "print(f'NoneType (None): {nenhum}')"
   ]
  },
  {
   "cell_type": "code",
   "execution_count": 13,
   "metadata": {},
   "outputs": [
    {
     "name": "stdout",
     "output_type": "stream",
     "text": [
      "Nome: Nicole <class 'str'>\n",
      "Idade:30 <class 'int'>\n"
     ]
    }
   ],
   "source": [
    "# Variáveis\n",
    "idade = 30\n",
    "nome = 'Nicole'\n",
    "print(f'Nome: {nome} {type(nome)}\\nIdade:{idade} {type(idade)}')"
   ]
  },
  {
   "cell_type": "code",
   "execution_count": 14,
   "metadata": {},
   "outputs": [],
   "source": [
    "nome = 'Ana Paula'"
   ]
  },
  {
   "cell_type": "code",
   "execution_count": 15,
   "metadata": {},
   "outputs": [
    {
     "name": "stdout",
     "output_type": "stream",
     "text": [
      "30\n"
     ]
    }
   ],
   "source": [
    "# As variáveis diferenciam letras maiúsculas de minúsculas\n",
    "i = 30\n",
    "I = 'Ana'\n",
    "print(i)"
   ]
  },
  {
   "cell_type": "code",
   "execution_count": 16,
   "metadata": {},
   "outputs": [
    {
     "name": "stdout",
     "output_type": "stream",
     "text": [
      "Texto 1\n",
      "Texto 2\n",
      "Texto 3\n"
     ]
    }
   ],
   "source": [
    "# Posso fazer declarações simultanêas em uma só linha\n",
    "var1, var2, var3 = 'Texto 1', 'Texto 2', 'Texto 3'\n",
    "print(var1)\n",
    "print(var2)\n",
    "print(var3)\n"
   ]
  },
  {
   "cell_type": "code",
   "execution_count": 17,
   "metadata": {},
   "outputs": [
    {
     "name": "stdout",
     "output_type": "stream",
     "text": [
      "Texto 1\n",
      "Texto 1\n",
      "Texto 1\n"
     ]
    }
   ],
   "source": [
    "# Posso atribuir um mesmo valor a várias variáveis em uma só linha neste modelo\n",
    "var1 = var2 = var3 = 'Texto 1'\n",
    "print(var1)\n",
    "print(var2)\n",
    "print(var3)"
   ]
  },
  {
   "cell_type": "code",
   "execution_count": 19,
   "metadata": {},
   "outputs": [
    {
     "name": "stdout",
     "output_type": "stream",
     "text": [
      "Texto 1\n",
      "Texto 2\n",
      "Texto 3\n"
     ]
    }
   ],
   "source": [
    "# Se tiver uma coleção de valores em uma lista, podemos extrair em variáveis.\n",
    "# Isso é chamado de descompactar\n",
    "exemplo = 'Texto 1', 'Texto 2', 'Texto 3'\n",
    "var1, var2, var3 = exemplo\n",
    "print(var1)\n",
    "print(var2)\n",
    "print(var3)"
   ]
  },
  {
   "cell_type": "code",
   "execution_count": 21,
   "metadata": {},
   "outputs": [
    {
     "name": "stdout",
     "output_type": "stream",
     "text": [
      "O nome dela é:Ana Paula\n",
      "O nome dela é: Ana Paula\n"
     ]
    }
   ],
   "source": [
    "# Para juntar textos e variáveis em Python usamos o caracter + ou ,\n",
    "nome = 'Ana Paula'\n",
    "print('O nome dela é:' + nome)\n",
    "print('O nome dela é:', nome) # A virgula já deixa um espaço automático"
   ]
  },
  {
   "cell_type": "code",
   "execution_count": 24,
   "metadata": {},
   "outputs": [
    {
     "name": "stdout",
     "output_type": "stream",
     "text": [
      "A soma é: 125.5\n"
     ]
    }
   ],
   "source": [
    "# Exercício de Variáveis em Python\n",
    "\n",
    "# 1 Declare uma variável chamada \"idade\" e atribua o valor 25 a ela\n",
    "idade = 25\n",
    "# 2 Declare uma variável chamada \"nome\" e atribua o valor \"João\"\n",
    "nome = \"João\"\n",
    "# 3 Declare uma variável chamada \"saldo\" e atribua o valor de 100.50 a ela\n",
    "saldo = 100.50\n",
    "# 4 Crie uma variável chamada \"soma\" e atribua a ela a soma das variáveis \"idade\" e \"Saldo\"\n",
    "soma = idade+saldo\n",
    "\n",
    "# 5 Imprima na tela o valor da variável soma\n",
    "print(f'A soma é: {soma}')"
   ]
  },
  {
   "cell_type": "code",
   "execution_count": 50,
   "metadata": {},
   "outputs": [
    {
     "name": "stdout",
     "output_type": "stream",
     "text": [
      "A média é: 7.57\n",
      "A média é: 7.57\n"
     ]
    }
   ],
   "source": [
    "# Exercício de Variáveis em Python\n",
    "# 1 Crie uma Variável chamada \"nota1\" e atribua o valor 7.5 a ela.\n",
    "nota1 = 7.5\n",
    "\n",
    "# 2 Crie uma variável chamada \"nota2\" e atribua o valor 8.3 a ela.\n",
    "nota2 = 8.3\n",
    "\n",
    "# 3 Crie uma variável chamada \"nota3\" e atribua o valor 6.9  a ela.\n",
    "nota3 = 6.9\n",
    "\n",
    "# 4 Calcule a média das trÊs notas e atribua o resultado a uma variável chamada \"media\"\n",
    "media = (nota1 + nota2 + nota3)/ 3\n",
    "\n",
    "# 5 Imprima na tela o valor da variável \"media\" formatado com duas casas decimais\n",
    "print(f\"A média é: {round(media,2)}\")\n",
    "print(f'A média é: {format(media,\".2f\")}')"
   ]
  }
 ],
 "metadata": {
  "kernelspec": {
   "display_name": "Python 3",
   "language": "python",
   "name": "python3"
  },
  "language_info": {
   "codemirror_mode": {
    "name": "ipython",
    "version": 3
   },
   "file_extension": ".py",
   "mimetype": "text/x-python",
   "name": "python",
   "nbconvert_exporter": "python",
   "pygments_lexer": "ipython3",
   "version": "3.11.4"
  }
 },
 "nbformat": 4,
 "nbformat_minor": 2
}
