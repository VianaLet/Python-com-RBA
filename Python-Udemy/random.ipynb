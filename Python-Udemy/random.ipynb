{
 "cells": [
  {
   "cell_type": "code",
   "execution_count": 42,
   "metadata": {},
   "outputs": [
    {
     "name": "stdout",
     "output_type": "stream",
     "text": [
      "5\n",
      "87\n",
      "0.4218398814259293\n",
      "8.650888004585527\n",
      "18\n"
     ]
    }
   ],
   "source": [
    "import random\n",
    "\n",
    "# Gera um número aleatório entre 1 e 9\n",
    "print(random.randrange(1,10))\n",
    "# Gera um número aleatório entre 20 e 100\n",
    "print(random.randrange(20,100))\n",
    "\n",
    "# Gera um número flutuante aleatório entre 0 e 1:\n",
    "print(random.random())\n",
    "\n",
    "# gerar um número de ponto flutuante aleatório em um intervalo específico:\n",
    "print(random.uniform(5.5,9.5)) # Gera um número de ponto flutuante entre 5.5 e 9.5\n",
    "\n",
    "# Gera um número inteiro aleatório entre dois valores (inclusive):\n",
    "print(random.randint(10,20))\n"
   ]
  },
  {
   "cell_type": "code",
   "execution_count": 52,
   "metadata": {},
   "outputs": [
    {
     "name": "stdout",
     "output_type": "stream",
     "text": [
      "banana\n",
      "[5, 1, 4, 3, 2]\n"
     ]
    }
   ],
   "source": [
    "# Escolhendo aleatoriamente um elemento de uma lista:\n",
    "frutas = ['maçã', 'banana', 'cereja']\n",
    "print(random.choice(frutas)) # Escolhe uma fruta aleatoriamente da lista\n",
    "\n",
    "# Embaralhar aleatoriamente uma lista:\n",
    "numeros = [1, 2, 3, 4, 5]\n",
    "random.shuffle(numeros)\n",
    "print(numeros) # A lista 'numeros' agora está embaralhada\n",
    "\n",
    "\n"
   ]
  }
 ],
 "metadata": {
  "kernelspec": {
   "display_name": "Python 3",
   "language": "python",
   "name": "python3"
  },
  "language_info": {
   "codemirror_mode": {
    "name": "ipython",
    "version": 3
   },
   "file_extension": ".py",
   "mimetype": "text/x-python",
   "name": "python",
   "nbconvert_exporter": "python",
   "pygments_lexer": "ipython3",
   "version": "3.11.4"
  }
 },
 "nbformat": 4,
 "nbformat_minor": 2
}
