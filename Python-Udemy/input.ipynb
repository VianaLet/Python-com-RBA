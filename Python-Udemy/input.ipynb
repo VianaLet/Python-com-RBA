{
 "cells": [
  {
   "cell_type": "markdown",
   "metadata": {},
   "source": [
    "# Função input"
   ]
  },
  {
   "cell_type": "code",
   "execution_count": 3,
   "metadata": {},
   "outputs": [
    {
     "name": "stdout",
     "output_type": "stream",
     "text": [
      "\n",
      "Aluno: Letícia Viana Média: 8.9\n"
     ]
    }
   ],
   "source": [
    "nome = input(\"Digite seu nome: \\n\")\n",
    "nota1 = float(input('Digite a nota 1: '))\n",
    "nota2 = float(input('Digite a nota 2: '))\n",
    "media = (nota1 + nota2)/ 2\n",
    "print(f'\\nAluno: {nome} Média: {media}')\n"
   ]
  },
  {
   "cell_type": "code",
   "execution_count": 9,
   "metadata": {},
   "outputs": [
    {
     "name": "stdout",
     "output_type": "stream",
     "text": [
      " A tabuada do número 2 é :\n",
      "2 x 1 = 2\n",
      "2 x 2 = 4\n",
      "2 x 3 = 6\n",
      "2 x 4 = 8\n",
      "2 x 5 = 10\n",
      "2 x 6 = 12\n",
      "2 x 7 = 14\n",
      "2 x 8 = 16\n",
      "2 x 9 = 18\n",
      "2 x 10 = 20\n"
     ]
    }
   ],
   "source": [
    "numero = int(input('Digite um número da qual você deseja ver a tabuada:'))\n",
    "# Tabuada\n",
    "print(f\" A tabuada do número {numero} é :\")\n",
    "print(f'{numero} x 1 = {numero*1}')\n",
    "print(f'{numero} x 2 = {numero*2}')\n",
    "print(f'{numero} x 3 = {numero*3}')\n",
    "print(f'{numero} x 4 = {numero*4}')\n",
    "print(f'{numero} x 5 = {numero*5}')\n",
    "print(f'{numero} x 6 = {numero*6}')\n",
    "print(f'{numero} x 7 = {numero*7}')\n",
    "print(f'{numero} x 8 = {numero*8}')\n",
    "print(f'{numero} x 9 = {numero*9}')\n",
    "print(f'{numero} x 10 = {numero*10}')"
   ]
  },
  {
   "cell_type": "code",
   "execution_count": 11,
   "metadata": {},
   "outputs": [
    {
     "name": "stdout",
     "output_type": "stream",
     "text": [
      "Sua idade é: 25\n"
     ]
    }
   ],
   "source": [
    "\"\"\"\n",
    "Crie um algoritmo que solicite o ano de nascimento do usuário\n",
    "e com base no ano corrente impria a idade\n",
    "\"\"\"\n",
    "ano_nascimento = int(input('Digite o ano que você nasceu:'))\n",
    "ano_atual = int(input('Informe o ano atual: '))\n",
    "idade = ano_atual - ano_nascimento\n",
    "print(f'Sua idade é: {idade}')"
   ]
  }
 ],
 "metadata": {
  "kernelspec": {
   "display_name": "Python 3",
   "language": "python",
   "name": "python3"
  },
  "language_info": {
   "codemirror_mode": {
    "name": "ipython",
    "version": 3
   },
   "file_extension": ".py",
   "mimetype": "text/x-python",
   "name": "python",
   "nbconvert_exporter": "python",
   "pygments_lexer": "ipython3",
   "version": "3.11.4"
  }
 },
 "nbformat": 4,
 "nbformat_minor": 2
}
