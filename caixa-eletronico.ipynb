{
 "cells": [
  {
   "cell_type": "code",
   "execution_count": 2,
   "metadata": {},
   "outputs": [
    {
     "name": "stdout",
     "output_type": "stream",
     "text": [
      "Bem vindo(a) de volta ao Banco Rain!\n"
     ]
    },
    {
     "name": "stdout",
     "output_type": "stream",
     "text": [
      "O seu saldo atual é: 100\n",
      "O seu saldo atual é: 100\n",
      "Depósito de R$500.0 realizado com sucesso! Seu saldo atual é : 600.0\n",
      "O seu saldo atual é: 600.0\n"
     ]
    }
   ],
   "source": [
    "\"\"\"\n",
    "Exercício: Simulação de Caixa Eletrônico\n",
    "\n",
    "Objetivo: Desenvolver um programa em Python que simula as operações básicas de um\n",
    "caixa eletrônico. O unsuário deve ser capaz de verificar o saldo, depositar dinheiro\n",
    "e sair do programa\n",
    "\n",
    "Requisitos:\n",
    "    Verificar Saldo:\n",
    "        - Ao escolher essa opção, o programa deve exibir o saldo atual da conta\n",
    "    \n",
    "    Depositar dinheiro:\n",
    "        - O usuário deve ser capaz de inserir uma quantia para depositar na conta\n",
    "        - A quantia deve ser positiva\n",
    "        - Após um depósito bem-sucedido, o saldo da conta deve ser atualizado e uma\n",
    "        mensagem de confirmação deve ser exibida\n",
    "    \n",
    "    Sacar dinheiro:\n",
    "        - O usuário deve ser capaz de inserir uma quantia para sacar da conta\n",
    "        - A quantia deve ser positiva e não deve exceder o saldo atual\n",
    "        - Após um saque bem-sucedido, o saldo da conta deve ser atualizado\n",
    "        e uma mensagem de confirmação deve ser exibida\n",
    "    \n",
    "    Sair:\n",
    "        - O usuário deve ser capaz de sair do programa escolhendo essa opção\n",
    "\"\"\"    \n",
    "# Código\n",
    "saldo= 1000.00\n",
    "print('Bem vindo(a) de volta ao Banco Rain!')\n",
    "opção = int(input('Informe a opção desejada: (1-Verificar Saldo/2-Depositar dinheiro/3-Sacar Dinheiro/4-Sair)'))\n",
    "while opção != 4 :\n",
    "    if opção == 1:\n",
    "        print(f'O seu saldo atual é: {saldo}')\n",
    "    elif opção == 2:\n",
    "        deposito = float(input('Informe o valor a ser depositado: '))\n",
    "        if deposito > 0 :\n",
    "            saldo += deposito\n",
    "            print(f'Depósito de R${deposito} realizado com sucesso! Seu saldo atual é : {saldo}')\n",
    "        else:\n",
    "            print('Valor não aceito')\n",
    "    elif opção == 3:\n",
    "        saque = float(input('Informe o valor que deseja sacar:'))\n",
    "        if saque <= saldo and saque > 0:\n",
    "            saldo -=saque\n",
    "            print(f'Saque de R${saque} realizado com sucesso! Seu saldo atual é : {saldo}')\n",
    "        else:\n",
    "            print('Valor de saque inválido ou valor de saque insuficiente')\n",
    "    elif opção == 4:\n",
    "        print('Foi ótimo atender você! Volte sempre')\n",
    "        break\n",
    "    else:\n",
    "        print('Opção inválida')\n",
    "    opção = int(input('Informe a opção desejada: (1-Verificar Saldo/2-Depositar dinheiro/3-Sacar Dinheiro/4-Sair)'))\n",
    "\n"
   ]
  }
 ],
 "metadata": {
  "kernelspec": {
   "display_name": "Python 3",
   "language": "python",
   "name": "python3"
  },
  "language_info": {
   "codemirror_mode": {
    "name": "ipython",
    "version": 3
   },
   "file_extension": ".py",
   "mimetype": "text/x-python",
   "name": "python",
   "nbconvert_exporter": "python",
   "pygments_lexer": "ipython3",
   "version": "3.11.4"
  }
 },
 "nbformat": 4,
 "nbformat_minor": 2
}
